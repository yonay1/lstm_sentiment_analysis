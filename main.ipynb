{
  "cells": [
    {
      "cell_type": "code",
      "execution_count": 62,
      "id": "4ed519ff",
      "metadata": {
        "colab": {
          "base_uri": "https://localhost:8080/"
        },
        "id": "4ed519ff",
        "outputId": "9ac7247e-1394-4115-c665-0d28a2b6838d"
      },
      "outputs": [
        {
          "output_type": "stream",
          "name": "stdout",
          "text": [
            "[nltk_data] Downloading package stopwords to /root/nltk_data...\n",
            "[nltk_data]   Package stopwords is already up-to-date!\n"
          ]
        }
      ],
      "source": [
        "import re\n",
        "import pandas as pd\n",
        "import numpy as np\n",
        "import os\n",
        "\n",
        "import gensim\n",
        "import nltk\n",
        "from nltk.tokenize.toktok import ToktokTokenizer\n",
        "\n",
        "from nltk.corpus import stopwords\n",
        "\n",
        "SEED = 42\n",
        "\n",
        "import torch\n",
        "import torch.nn as nn\n",
        "\n",
        "torch.manual_seed(SEED)\n",
        "torch.backends.cudnn.deterministic = True\n",
        "\n",
        "nltk.download('stopwords')\n",
        "import math\n",
        "from torch.autograd import Variable\n",
        "from string import punctuation\n",
        "from torch import optim\n",
        "from torch.utils.data import TensorDataset, DataLoader\n",
        "from matplotlib import pyplot as plt\n",
        "from collections import Counter\n",
        "\n",
        "from sklearn import metrics\n",
        "from sklearn.model_selection import train_test_split\n",
        "import gensim.downloader\n",
        "\n",
        "\n",
        "\n",
        "#from bs4 import BeautifulSoup"
      ]
    },
    {
      "cell_type": "code",
      "execution_count": 63,
      "id": "a1891bd2",
      "metadata": {
        "colab": {
          "base_uri": "https://localhost:8080/",
          "height": 224
        },
        "id": "a1891bd2",
        "outputId": "2dcc210b-0dfd-4fa3-9bec-0b877faed036"
      },
      "outputs": [
        {
          "output_type": "stream",
          "name": "stdout",
          "text": [
            "(37500, 4)\n"
          ]
        },
        {
          "output_type": "execute_result",
          "data": {
            "text/plain": [
              "  user_id  rating     label                                             review\n",
              "0       0     9.0  positive  Bromwell High is a cartoon comedy. It ran at t...\n",
              "1   10000     8.0  positive  Homelessness (or Houselessness as George Carli...\n",
              "2   10001    10.0  positive  Brilliant over-acting by Lesley Ann Warren. Be...\n",
              "3   10002     7.0  positive  This is easily the most underrated film inn th...\n",
              "4   10003     8.0  positive  This is not the typical Mel Brooks film. It wa..."
            ],
            "text/html": [
              "\n",
              "  <div id=\"df-a61c8f9e-60df-48d4-94fe-2c709b8fdbf5\">\n",
              "    <div class=\"colab-df-container\">\n",
              "      <div>\n",
              "<style scoped>\n",
              "    .dataframe tbody tr th:only-of-type {\n",
              "        vertical-align: middle;\n",
              "    }\n",
              "\n",
              "    .dataframe tbody tr th {\n",
              "        vertical-align: top;\n",
              "    }\n",
              "\n",
              "    .dataframe thead th {\n",
              "        text-align: right;\n",
              "    }\n",
              "</style>\n",
              "<table border=\"1\" class=\"dataframe\">\n",
              "  <thead>\n",
              "    <tr style=\"text-align: right;\">\n",
              "      <th></th>\n",
              "      <th>user_id</th>\n",
              "      <th>rating</th>\n",
              "      <th>label</th>\n",
              "      <th>review</th>\n",
              "    </tr>\n",
              "  </thead>\n",
              "  <tbody>\n",
              "    <tr>\n",
              "      <th>0</th>\n",
              "      <td>0</td>\n",
              "      <td>9.0</td>\n",
              "      <td>positive</td>\n",
              "      <td>Bromwell High is a cartoon comedy. It ran at t...</td>\n",
              "    </tr>\n",
              "    <tr>\n",
              "      <th>1</th>\n",
              "      <td>10000</td>\n",
              "      <td>8.0</td>\n",
              "      <td>positive</td>\n",
              "      <td>Homelessness (or Houselessness as George Carli...</td>\n",
              "    </tr>\n",
              "    <tr>\n",
              "      <th>2</th>\n",
              "      <td>10001</td>\n",
              "      <td>10.0</td>\n",
              "      <td>positive</td>\n",
              "      <td>Brilliant over-acting by Lesley Ann Warren. Be...</td>\n",
              "    </tr>\n",
              "    <tr>\n",
              "      <th>3</th>\n",
              "      <td>10002</td>\n",
              "      <td>7.0</td>\n",
              "      <td>positive</td>\n",
              "      <td>This is easily the most underrated film inn th...</td>\n",
              "    </tr>\n",
              "    <tr>\n",
              "      <th>4</th>\n",
              "      <td>10003</td>\n",
              "      <td>8.0</td>\n",
              "      <td>positive</td>\n",
              "      <td>This is not the typical Mel Brooks film. It wa...</td>\n",
              "    </tr>\n",
              "  </tbody>\n",
              "</table>\n",
              "</div>\n",
              "      <button class=\"colab-df-convert\" onclick=\"convertToInteractive('df-a61c8f9e-60df-48d4-94fe-2c709b8fdbf5')\"\n",
              "              title=\"Convert this dataframe to an interactive table.\"\n",
              "              style=\"display:none;\">\n",
              "        \n",
              "  <svg xmlns=\"http://www.w3.org/2000/svg\" height=\"24px\"viewBox=\"0 0 24 24\"\n",
              "       width=\"24px\">\n",
              "    <path d=\"M0 0h24v24H0V0z\" fill=\"none\"/>\n",
              "    <path d=\"M18.56 5.44l.94 2.06.94-2.06 2.06-.94-2.06-.94-.94-2.06-.94 2.06-2.06.94zm-11 1L8.5 8.5l.94-2.06 2.06-.94-2.06-.94L8.5 2.5l-.94 2.06-2.06.94zm10 10l.94 2.06.94-2.06 2.06-.94-2.06-.94-.94-2.06-.94 2.06-2.06.94z\"/><path d=\"M17.41 7.96l-1.37-1.37c-.4-.4-.92-.59-1.43-.59-.52 0-1.04.2-1.43.59L10.3 9.45l-7.72 7.72c-.78.78-.78 2.05 0 2.83L4 21.41c.39.39.9.59 1.41.59.51 0 1.02-.2 1.41-.59l7.78-7.78 2.81-2.81c.8-.78.8-2.07 0-2.86zM5.41 20L4 18.59l7.72-7.72 1.47 1.35L5.41 20z\"/>\n",
              "  </svg>\n",
              "      </button>\n",
              "      \n",
              "  <style>\n",
              "    .colab-df-container {\n",
              "      display:flex;\n",
              "      flex-wrap:wrap;\n",
              "      gap: 12px;\n",
              "    }\n",
              "\n",
              "    .colab-df-convert {\n",
              "      background-color: #E8F0FE;\n",
              "      border: none;\n",
              "      border-radius: 50%;\n",
              "      cursor: pointer;\n",
              "      display: none;\n",
              "      fill: #1967D2;\n",
              "      height: 32px;\n",
              "      padding: 0 0 0 0;\n",
              "      width: 32px;\n",
              "    }\n",
              "\n",
              "    .colab-df-convert:hover {\n",
              "      background-color: #E2EBFA;\n",
              "      box-shadow: 0px 1px 2px rgba(60, 64, 67, 0.3), 0px 1px 3px 1px rgba(60, 64, 67, 0.15);\n",
              "      fill: #174EA6;\n",
              "    }\n",
              "\n",
              "    [theme=dark] .colab-df-convert {\n",
              "      background-color: #3B4455;\n",
              "      fill: #D2E3FC;\n",
              "    }\n",
              "\n",
              "    [theme=dark] .colab-df-convert:hover {\n",
              "      background-color: #434B5C;\n",
              "      box-shadow: 0px 1px 3px 1px rgba(0, 0, 0, 0.15);\n",
              "      filter: drop-shadow(0px 1px 2px rgba(0, 0, 0, 0.3));\n",
              "      fill: #FFFFFF;\n",
              "    }\n",
              "  </style>\n",
              "\n",
              "      <script>\n",
              "        const buttonEl =\n",
              "          document.querySelector('#df-a61c8f9e-60df-48d4-94fe-2c709b8fdbf5 button.colab-df-convert');\n",
              "        buttonEl.style.display =\n",
              "          google.colab.kernel.accessAllowed ? 'block' : 'none';\n",
              "\n",
              "        async function convertToInteractive(key) {\n",
              "          const element = document.querySelector('#df-a61c8f9e-60df-48d4-94fe-2c709b8fdbf5');\n",
              "          const dataTable =\n",
              "            await google.colab.kernel.invokeFunction('convertToInteractive',\n",
              "                                                     [key], {});\n",
              "          if (!dataTable) return;\n",
              "\n",
              "          const docLinkHtml = 'Like what you see? Visit the ' +\n",
              "            '<a target=\"_blank\" href=https://colab.research.google.com/notebooks/data_table.ipynb>data table notebook</a>'\n",
              "            + ' to learn more about interactive tables.';\n",
              "          element.innerHTML = '';\n",
              "          dataTable['output_type'] = 'display_data';\n",
              "          await google.colab.output.renderOutput(dataTable, element);\n",
              "          const docLink = document.createElement('div');\n",
              "          docLink.innerHTML = docLinkHtml;\n",
              "          element.appendChild(docLink);\n",
              "        }\n",
              "      </script>\n",
              "    </div>\n",
              "  </div>\n",
              "  "
            ]
          },
          "metadata": {},
          "execution_count": 63
        }
      ],
      "source": [
        "#importing the training data\n",
        "#imdb_data=pd.read_csv('All_rated_reviews.csv')\n",
        "imdb_data1 = pd.read_csv('https://raw.githubusercontent.com/yonay1/lstm_sentiment_analysis/main/rated_and_not_rated_reviews_1.csv')\n",
        "imdb_data2 = pd.read_csv('https://raw.githubusercontent.com/yonay1/lstm_sentiment_analysis/main/rated_and_not_rated_reviews_2.csv')\n",
        "imdb_data = pd.concat([imdb_data1, imdb_data2], ignore_index=True)\n",
        "imdb_data = imdb_data.loc[:, ~imdb_data.columns.str.match('Unnamed')]\n",
        "print(imdb_data.shape)\n",
        "imdb_data.head(5)"
      ]
    },
    {
      "cell_type": "code",
      "execution_count": 64,
      "id": "decf413e",
      "metadata": {
        "colab": {
          "base_uri": "https://localhost:8080/",
          "height": 300
        },
        "id": "decf413e",
        "outputId": "f2deb791-dee6-4a14-facf-e892f67d56d5"
      },
      "outputs": [
        {
          "output_type": "execute_result",
          "data": {
            "text/plain": [
              "             rating\n",
              "count  25000.000000\n",
              "mean       5.477720\n",
              "std        3.466477\n",
              "min        1.000000\n",
              "25%        2.000000\n",
              "50%        5.500000\n",
              "75%        9.000000\n",
              "max       10.000000"
            ],
            "text/html": [
              "\n",
              "  <div id=\"df-3215e1a1-1d28-4255-9198-8319df484cc6\">\n",
              "    <div class=\"colab-df-container\">\n",
              "      <div>\n",
              "<style scoped>\n",
              "    .dataframe tbody tr th:only-of-type {\n",
              "        vertical-align: middle;\n",
              "    }\n",
              "\n",
              "    .dataframe tbody tr th {\n",
              "        vertical-align: top;\n",
              "    }\n",
              "\n",
              "    .dataframe thead th {\n",
              "        text-align: right;\n",
              "    }\n",
              "</style>\n",
              "<table border=\"1\" class=\"dataframe\">\n",
              "  <thead>\n",
              "    <tr style=\"text-align: right;\">\n",
              "      <th></th>\n",
              "      <th>rating</th>\n",
              "    </tr>\n",
              "  </thead>\n",
              "  <tbody>\n",
              "    <tr>\n",
              "      <th>count</th>\n",
              "      <td>25000.000000</td>\n",
              "    </tr>\n",
              "    <tr>\n",
              "      <th>mean</th>\n",
              "      <td>5.477720</td>\n",
              "    </tr>\n",
              "    <tr>\n",
              "      <th>std</th>\n",
              "      <td>3.466477</td>\n",
              "    </tr>\n",
              "    <tr>\n",
              "      <th>min</th>\n",
              "      <td>1.000000</td>\n",
              "    </tr>\n",
              "    <tr>\n",
              "      <th>25%</th>\n",
              "      <td>2.000000</td>\n",
              "    </tr>\n",
              "    <tr>\n",
              "      <th>50%</th>\n",
              "      <td>5.500000</td>\n",
              "    </tr>\n",
              "    <tr>\n",
              "      <th>75%</th>\n",
              "      <td>9.000000</td>\n",
              "    </tr>\n",
              "    <tr>\n",
              "      <th>max</th>\n",
              "      <td>10.000000</td>\n",
              "    </tr>\n",
              "  </tbody>\n",
              "</table>\n",
              "</div>\n",
              "      <button class=\"colab-df-convert\" onclick=\"convertToInteractive('df-3215e1a1-1d28-4255-9198-8319df484cc6')\"\n",
              "              title=\"Convert this dataframe to an interactive table.\"\n",
              "              style=\"display:none;\">\n",
              "        \n",
              "  <svg xmlns=\"http://www.w3.org/2000/svg\" height=\"24px\"viewBox=\"0 0 24 24\"\n",
              "       width=\"24px\">\n",
              "    <path d=\"M0 0h24v24H0V0z\" fill=\"none\"/>\n",
              "    <path d=\"M18.56 5.44l.94 2.06.94-2.06 2.06-.94-2.06-.94-.94-2.06-.94 2.06-2.06.94zm-11 1L8.5 8.5l.94-2.06 2.06-.94-2.06-.94L8.5 2.5l-.94 2.06-2.06.94zm10 10l.94 2.06.94-2.06 2.06-.94-2.06-.94-.94-2.06-.94 2.06-2.06.94z\"/><path d=\"M17.41 7.96l-1.37-1.37c-.4-.4-.92-.59-1.43-.59-.52 0-1.04.2-1.43.59L10.3 9.45l-7.72 7.72c-.78.78-.78 2.05 0 2.83L4 21.41c.39.39.9.59 1.41.59.51 0 1.02-.2 1.41-.59l7.78-7.78 2.81-2.81c.8-.78.8-2.07 0-2.86zM5.41 20L4 18.59l7.72-7.72 1.47 1.35L5.41 20z\"/>\n",
              "  </svg>\n",
              "      </button>\n",
              "      \n",
              "  <style>\n",
              "    .colab-df-container {\n",
              "      display:flex;\n",
              "      flex-wrap:wrap;\n",
              "      gap: 12px;\n",
              "    }\n",
              "\n",
              "    .colab-df-convert {\n",
              "      background-color: #E8F0FE;\n",
              "      border: none;\n",
              "      border-radius: 50%;\n",
              "      cursor: pointer;\n",
              "      display: none;\n",
              "      fill: #1967D2;\n",
              "      height: 32px;\n",
              "      padding: 0 0 0 0;\n",
              "      width: 32px;\n",
              "    }\n",
              "\n",
              "    .colab-df-convert:hover {\n",
              "      background-color: #E2EBFA;\n",
              "      box-shadow: 0px 1px 2px rgba(60, 64, 67, 0.3), 0px 1px 3px 1px rgba(60, 64, 67, 0.15);\n",
              "      fill: #174EA6;\n",
              "    }\n",
              "\n",
              "    [theme=dark] .colab-df-convert {\n",
              "      background-color: #3B4455;\n",
              "      fill: #D2E3FC;\n",
              "    }\n",
              "\n",
              "    [theme=dark] .colab-df-convert:hover {\n",
              "      background-color: #434B5C;\n",
              "      box-shadow: 0px 1px 3px 1px rgba(0, 0, 0, 0.15);\n",
              "      filter: drop-shadow(0px 1px 2px rgba(0, 0, 0, 0.3));\n",
              "      fill: #FFFFFF;\n",
              "    }\n",
              "  </style>\n",
              "\n",
              "      <script>\n",
              "        const buttonEl =\n",
              "          document.querySelector('#df-3215e1a1-1d28-4255-9198-8319df484cc6 button.colab-df-convert');\n",
              "        buttonEl.style.display =\n",
              "          google.colab.kernel.accessAllowed ? 'block' : 'none';\n",
              "\n",
              "        async function convertToInteractive(key) {\n",
              "          const element = document.querySelector('#df-3215e1a1-1d28-4255-9198-8319df484cc6');\n",
              "          const dataTable =\n",
              "            await google.colab.kernel.invokeFunction('convertToInteractive',\n",
              "                                                     [key], {});\n",
              "          if (!dataTable) return;\n",
              "\n",
              "          const docLinkHtml = 'Like what you see? Visit the ' +\n",
              "            '<a target=\"_blank\" href=https://colab.research.google.com/notebooks/data_table.ipynb>data table notebook</a>'\n",
              "            + ' to learn more about interactive tables.';\n",
              "          element.innerHTML = '';\n",
              "          dataTable['output_type'] = 'display_data';\n",
              "          await google.colab.output.renderOutput(dataTable, element);\n",
              "          const docLink = document.createElement('div');\n",
              "          docLink.innerHTML = docLinkHtml;\n",
              "          element.appendChild(docLink);\n",
              "        }\n",
              "      </script>\n",
              "    </div>\n",
              "  </div>\n",
              "  "
            ]
          },
          "metadata": {},
          "execution_count": 64
        }
      ],
      "source": [
        "#Summary of the dataset\n",
        "imdb_data.describe()"
      ]
    },
    {
      "cell_type": "code",
      "execution_count": 65,
      "id": "643ae88c",
      "metadata": {
        "colab": {
          "base_uri": "https://localhost:8080/"
        },
        "id": "643ae88c",
        "outputId": "0e2c9865-93f7-4274-d693-8f1dd33a9dce"
      },
      "outputs": [
        {
          "output_type": "execute_result",
          "data": {
            "text/plain": [
              "positive    18750\n",
              "negative    18750\n",
              "Name: label, dtype: int64"
            ]
          },
          "metadata": {},
          "execution_count": 65
        }
      ],
      "source": [
        "#sentiment count to see that the model is balanced\n",
        "imdb_data['label'].value_counts()"
      ]
    },
    {
      "cell_type": "code",
      "execution_count": 66,
      "id": "6a9663e4",
      "metadata": {
        "id": "6a9663e4"
      },
      "outputs": [],
      "source": [
        "imdb_data['label'] = imdb_data['label'].apply(lambda x: 1 if x == 'positive' else 0 )\n",
        "labels = imdb_data['label']"
      ]
    },
    {
      "cell_type": "markdown",
      "id": "5b366b18",
      "metadata": {
        "id": "5b366b18"
      },
      "source": [
        "## Text Normalization"
      ]
    },
    {
      "cell_type": "code",
      "execution_count": 67,
      "id": "c4425d5f",
      "metadata": {
        "id": "c4425d5f"
      },
      "outputs": [],
      "source": [
        "#Tokenization of text\n",
        "tokenizer = ToktokTokenizer()\n",
        "#Setting English stopwords\n",
        "stopword_list = nltk.corpus.stopwords.words('english')"
      ]
    },
    {
      "cell_type": "markdown",
      "id": "454f3179",
      "metadata": {
        "id": "454f3179"
      },
      "source": [
        "#### Removing noise from text"
      ]
    },
    {
      "cell_type": "code",
      "execution_count": 68,
      "id": "01c4f9c5",
      "metadata": {
        "colab": {
          "base_uri": "https://localhost:8080/",
          "height": 122
        },
        "id": "01c4f9c5",
        "outputId": "7e2778b8-97f3-4dd4-830d-7e235932e86f"
      },
      "outputs": [
        {
          "output_type": "execute_result",
          "data": {
            "text/plain": [
              "'Bromwell High is a cartoon comedy. It ran at the same time as some other programs about school life, such as \"Teachers\". My 35 years in the teaching profession lead me to believe that Bromwell High\\'s satire is much closer to reality than is \"Teachers\". The scramble to survive financially, the insightful students who can see right through their pathetic teachers\\' pomp, the pettiness of the whole situation, all remind me of the schools I knew and their students. When I saw the episode in which a student repeatedly tried to burn down the school, I immediately recalled ......... at .......... High. A classic line: INSPECTOR: I\\'m here to sack one of your teachers. STUDENT: Welcome to Bromwell High. I expect that many adults of my age think that Bromwell High is far fetched. What a pity that it isn\\'t!'"
            ],
            "application/vnd.google.colaboratory.intrinsic+json": {
              "type": "string"
            }
          },
          "metadata": {},
          "execution_count": 68
        }
      ],
      "source": [
        "def remove_between_square_brackets(text):\n",
        "    # Removing the square brackets\n",
        "    return re.sub('\\[[^]]*\\]', '', text)\n",
        "\n",
        "\n",
        "def denoise_text(text):\n",
        "    # Removing noise from text\n",
        "    text = remove_between_square_brackets(text)\n",
        "    return text\n",
        "\n",
        "\n",
        "#Apply function on review column\n",
        "imdb_data['review']=imdb_data['review'].apply(denoise_text)\n",
        "imdb_data['review'][0]"
      ]
    },
    {
      "cell_type": "markdown",
      "id": "1836eea9",
      "metadata": {
        "id": "1836eea9"
      },
      "source": [
        "#### Removing special characters"
      ]
    },
    {
      "cell_type": "code",
      "execution_count": 69,
      "id": "af603ce6",
      "metadata": {
        "colab": {
          "base_uri": "https://localhost:8080/",
          "height": 105
        },
        "id": "af603ce6",
        "outputId": "b054457e-ffbf-4e88-db01-e2208d7ab5fb"
      },
      "outputs": [
        {
          "output_type": "execute_result",
          "data": {
            "text/plain": [
              "'Bromwell High is a cartoon comedy It ran at the same time as some other programs about school life such as Teachers My  years in the teaching profession lead me to believe that Bromwell Highs satire is much closer to reality than is Teachers The scramble to survive financially the insightful students who can see right through their pathetic teachers pomp the pettiness of the whole situation all remind me of the schools I knew and their students When I saw the episode in which a student repeatedly tried to burn down the school I immediately recalled  at  High A classic line INSPECTOR Im here to sack one of your teachers STUDENT Welcome to Bromwell High I expect that many adults of my age think that Bromwell High is far fetched What a pity that it isnt'"
            ],
            "application/vnd.google.colaboratory.intrinsic+json": {
              "type": "string"
            }
          },
          "metadata": {},
          "execution_count": 69
        }
      ],
      "source": [
        "#Define function for removing special characters\n",
        "def remove_special_characters(text, remove_digits=True):\n",
        "    pattern = r'[^a-zA-z0-9\\s]'  if not remove_digits else r'[^a-zA-Z\\s]'\n",
        "    text = re.sub(pattern,'',text)\n",
        "    return text\n",
        "\n",
        "# Apply function on review column\n",
        "imdb_data['review']=imdb_data['review'].apply(remove_special_characters)\n",
        "imdb_data['review'][0]"
      ]
    },
    {
      "cell_type": "markdown",
      "id": "86d7a415",
      "metadata": {
        "id": "86d7a415"
      },
      "source": [
        "#### Text Stemming"
      ]
    },
    {
      "cell_type": "code",
      "execution_count": 70,
      "id": "b2f1f751",
      "metadata": {
        "colab": {
          "base_uri": "https://localhost:8080/",
          "height": 105
        },
        "id": "b2f1f751",
        "outputId": "a924f740-ef8b-47ba-f697-577cab2ca2a2"
      },
      "outputs": [
        {
          "output_type": "execute_result",
          "data": {
            "text/plain": [
              "'bromwel high is a cartoon comedi It ran at the same time as some other program about school life such as teacher My year in the teach profess lead me to believ that bromwel high satir is much closer to realiti than is teacher the scrambl to surviv financi the insight student who can see right through their pathet teacher pomp the petti of the whole situat all remind me of the school I knew and their student when I saw the episod in which a student repeatedli tri to burn down the school I immedi recal at high A classic line inspector Im here to sack one of your teacher student welcom to bromwel high I expect that mani adult of my age think that bromwel high is far fetch what a piti that it isnt'"
            ],
            "application/vnd.google.colaboratory.intrinsic+json": {
              "type": "string"
            }
          },
          "metadata": {},
          "execution_count": 70
        }
      ],
      "source": [
        "#Stemming the text (plays, playing, played -> play)\n",
        "def simple_stemmer(text):\n",
        "    ps=nltk.porter.PorterStemmer()\n",
        "    text= ' '.join([ps.stem(word) for word in text.split()])\n",
        "    return text\n",
        "\n",
        "#Apply function on review column\n",
        "imdb_data['review']=imdb_data['review'].apply(simple_stemmer)\n",
        "imdb_data['review'][0]"
      ]
    },
    {
      "cell_type": "markdown",
      "id": "c1dd2881",
      "metadata": {
        "id": "c1dd2881"
      },
      "source": [
        "#### Removing stopwords"
      ]
    },
    {
      "cell_type": "code",
      "execution_count": 71,
      "id": "d93ebd2b",
      "metadata": {
        "colab": {
          "base_uri": "https://localhost:8080/",
          "height": 70
        },
        "id": "d93ebd2b",
        "outputId": "5ce7db0d-3b04-4bce-986a-05e48701d831"
      },
      "outputs": [
        {
          "output_type": "execute_result",
          "data": {
            "text/plain": [
              "'bromwel high cartoon comedi ran time program school life teacher year teach profess lead believ bromwel high satir much closer realiti teacher scrambl surviv financi insight student see right pathet teacher pomp petti whole situat remind school knew student saw episod student repeatedli tri burn school immedi recal high classic line inspector Im sack one teacher student welcom bromwel high expect mani adult age think bromwel high far fetch piti isnt'"
            ],
            "application/vnd.google.colaboratory.intrinsic+json": {
              "type": "string"
            }
          },
          "metadata": {},
          "execution_count": 71
        }
      ],
      "source": [
        "#set stopwords to english\n",
        "stop=set(stopwords.words('english'))\n",
        "\n",
        "\n",
        "#removing the stopwords\n",
        "def remove_stopwords(text, is_lower_case=False):\n",
        "    tokens = tokenizer.tokenize(text)\n",
        "    tokens = [token.strip() for token in tokens]\n",
        "    if is_lower_case:\n",
        "        filtered_tokens = [token for token in tokens if token not in stopword_list]\n",
        "    else:\n",
        "        filtered_tokens = [token for token in tokens if token.lower() not in stopword_list]\n",
        "    filtered_text = ' '.join(filtered_tokens)    \n",
        "    return filtered_text\n",
        "\n",
        "\n",
        "#Apply function on review column\n",
        "imdb_data['review']=imdb_data['review'].apply(remove_stopwords)\n",
        "imdb_data['review'][0]"
      ]
    },
    {
      "cell_type": "code",
      "execution_count": 72,
      "id": "453750f1",
      "metadata": {
        "colab": {
          "base_uri": "https://localhost:8080/"
        },
        "id": "453750f1",
        "outputId": "d0cd26e7-839a-45da-df24-26b5808b3916"
      },
      "outputs": [
        {
          "output_type": "execute_result",
          "data": {
            "text/plain": [
              "['bromwel', 'high', 'cartoon', 'comedi', 'ran']"
            ]
          },
          "metadata": {},
          "execution_count": 72
        }
      ],
      "source": [
        "def remove_punctuation(text):\n",
        "    \"\"\"\n",
        "    Removing punctuation from our reviews\n",
        "    Punctuations are !\"#$%&'()*+, -./:;<=>?@[\\]^_`{|}~\n",
        "    \"\"\"\n",
        "    #return map(lambda s: re.sub(r'[^\\s\\w]+', '', s).lower(), strings)\n",
        "    all_text = ''.join([word for word in text if word not in punctuation])\n",
        "\n",
        "    # split by new lines and spaces\n",
        "    reviews_split = all_text.split('\\n')\n",
        "    all_text = ' '.join(reviews_split)\n",
        "    # create a list of words\n",
        "    words = all_text.split()\n",
        "    return words\n",
        "\n",
        "\n",
        "imdb_data['review'] = imdb_data['review'].apply(lambda x: remove_punctuation(x))\n",
        "#first 5 words of the review are\n",
        "imdb_data['review'][0][:5]"
      ]
    },
    {
      "cell_type": "markdown",
      "id": "bfdac35e",
      "metadata": {
        "id": "bfdac35e"
      },
      "source": [
        "## Normalized reviews - are splitted into test train and validation sets"
      ]
    },
    {
      "cell_type": "markdown",
      "id": "5160dbaf",
      "metadata": {
        "id": "5160dbaf"
      },
      "source": [
        "### Splitting the data set for training"
      ]
    },
    {
      "cell_type": "code",
      "execution_count": 73,
      "id": "3424e317",
      "metadata": {
        "colab": {
          "base_uri": "https://localhost:8080/"
        },
        "id": "3424e317",
        "outputId": "f8500582-adb1-4300-80b8-319c6d13b773"
      },
      "outputs": [
        {
          "output_type": "stream",
          "name": "stdout",
          "text": [
            "Overall data set length is 37500\n",
            "From this index we see the negative reviews 18750\n"
          ]
        }
      ],
      "source": [
        "print(\"Overall data set length is\", imdb_data.shape[0]) \n",
        "print(\"From this index we see the negative reviews\", int(imdb_data.shape[0]/2))"
      ]
    },
    {
      "cell_type": "markdown",
      "id": "b3d0f800",
      "metadata": {
        "id": "b3d0f800"
      },
      "source": [
        "##### Calculation of indexes"
      ]
    },
    {
      "cell_type": "code",
      "execution_count": 74,
      "id": "440b4598",
      "metadata": {
        "id": "440b4598"
      },
      "outputs": [],
      "source": [
        "x = imdb_data['review']\n",
        "y = imdb_data['label']"
      ]
    },
    {
      "cell_type": "code",
      "execution_count": 75,
      "id": "4dcfd80e",
      "metadata": {
        "colab": {
          "base_uri": "https://localhost:8080/"
        },
        "id": "4dcfd80e",
        "outputId": "2e9dff73-65fe-45ed-db0e-56f7caba5d36"
      },
      "outputs": [
        {
          "output_type": "stream",
          "name": "stdout",
          "text": [
            "X_train shape: (30000,)\n",
            "X_test shape: (3750,)\n",
            "y_train shape: (30000,)\n",
            "y_test shape: (3750,)\n",
            "X_val shape: (30000,)\n",
            "y val shape: (3750,)\n"
          ]
        }
      ],
      "source": [
        "# The training set size will be 80% of the data and both the test and validation sets will contain 10%\n",
        "\n",
        "x_train,x_test, y_train, y_test = train_test_split(x, y,\n",
        "    test_size=0.1, shuffle = True, random_state = 8)\n",
        "\n",
        "# Use the same function above for the validation set\n",
        "x_train, x_val, y_train, y_val = train_test_split(x_train, y_train, \n",
        "    test_size=1/9, random_state= 8) # 0.25 x 0.8 = 0.2\n",
        "\n",
        "print(\"X_train shape: {}\".format(x_train.shape))\n",
        "print(\"X_test shape: {}\".format(x_test.shape))\n",
        "print(\"y_train shape: {}\".format(y_train.shape))\n",
        "print(\"y_test shape: {}\".format(y_test.shape))\n",
        "print(\"X_val shape: {}\".format(y_train.shape))\n",
        "print(\"y val shape: {}\".format(y_test.shape))"
      ]
    },
    {
      "cell_type": "markdown",
      "id": "c625c416",
      "metadata": {
        "id": "c625c416"
      },
      "source": [
        "## Cutting off irregular reviews by lenght"
      ]
    },
    {
      "cell_type": "code",
      "execution_count": 76,
      "id": "d29f791a",
      "metadata": {
        "colab": {
          "base_uri": "https://localhost:8080/"
        },
        "id": "d29f791a",
        "outputId": "02c8eecd-a4f8-4f8a-cbe2-d385fa5b7e7f"
      },
      "outputs": [
        {
          "output_type": "stream",
          "name": "stdout",
          "text": [
            "Zero-length reviews: 0\n",
            "Maximum review length: 1494\n"
          ]
        }
      ],
      "source": [
        "# You do it more then once - put it to a variable: len_list = [len(x) for x ...]\n",
        "train_review_lens = Counter([len(x) for x in x_train])\n",
        "print(\"Zero-length reviews: {}\".format(train_review_lens[0]))\n",
        "print(\"Maximum review length: {}\".format(max(train_review_lens)))"
      ]
    },
    {
      "cell_type": "code",
      "execution_count": 77,
      "id": "c265e96a",
      "metadata": {
        "colab": {
          "base_uri": "https://localhost:8080/",
          "height": 241
        },
        "id": "c265e96a",
        "outputId": "10d3502c-fee2-4904-d31c-fe81aadbff1f"
      },
      "outputs": [
        {
          "output_type": "display_data",
          "data": {
            "text/plain": [
              "<Figure size 576x216 with 1 Axes>"
            ],
            "image/png": "[encoded data removed]"
          },
          "metadata": {
            "needs_background": "light"
          }
        }
      ],
      "source": [
        "train_data_for_plot = [len(x) for x in x_train]\n",
        "# fixed bin size\n",
        "bins = np.arange(0, 100, 20) # fixed bin size\n",
        "plt.xlim([min(train_data_for_plot)-5, max(train_data_for_plot)/4+5])\n",
        "plt.hist(train_data_for_plot, bins=bins, alpha=0.8)\n",
        "plt.title('Train reviews lenght histogram')\n",
        "plt.xlabel('variable X (bin size = 5)')\n",
        "plt.ylabel('count')\n",
        "plt.show()"
      ]
    },
    {
      "cell_type": "code",
      "execution_count": 78,
      "id": "1d5467ac",
      "metadata": {
        "colab": {
          "base_uri": "https://localhost:8080/"
        },
        "id": "1d5467ac",
        "outputId": "070995e0-8ee8-4885-cc49-babca3529492"
      },
      "outputs": [
        {
          "output_type": "stream",
          "name": "stdout",
          "text": [
            "Zero-length reviews: 0\n",
            "Maximum review length: 788\n"
          ]
        }
      ],
      "source": [
        "test_review_lens = Counter([len(i) for i in x_test])\n",
        "print(\"Zero-length reviews: {}\".format(test_review_lens[0]))\n",
        "print(\"Maximum review length: {}\".format(max(test_review_lens)))"
      ]
    },
    {
      "cell_type": "code",
      "execution_count": 79,
      "id": "d1eb4f7a",
      "metadata": {
        "colab": {
          "base_uri": "https://localhost:8080/",
          "height": 241
        },
        "id": "d1eb4f7a",
        "outputId": "f59fab45-013e-4394-98d7-089f6e0d568f"
      },
      "outputs": [
        {
          "output_type": "display_data",
          "data": {
            "text/plain": [
              "<Figure size 576x216 with 1 Axes>"
            ],
            "image/png": "[encoded data removed]"
          },
          "metadata": {
            "needs_background": "light"
          }
        }
      ],
      "source": [
        "test_data_for_plot = [len(i) for i in x_test]\n",
        "# fixed bin size\n",
        "bins = np.arange(0, 100, 20) # fixed bin size\n",
        "plt.xlim([min(test_data_for_plot)-5, max(test_data_for_plot)/4+5])\n",
        "plt.hist(test_data_for_plot, bins=bins, alpha=0.8)\n",
        "plt.title('Train reviews lenght histogram')\n",
        "plt.xlabel('variable X (bin size = 5)')\n",
        "plt.ylabel('count')\n",
        "plt.show()"
      ]
    },
    {
      "cell_type": "code",
      "execution_count": 80,
      "id": "5355ccae",
      "metadata": {
        "colab": {
          "base_uri": "https://localhost:8080/"
        },
        "id": "5355ccae",
        "outputId": "8b5b8488-4629-426b-a3b4-da5abf2b5702"
      },
      "outputs": [
        {
          "output_type": "stream",
          "name": "stdout",
          "text": [
            "Zero-length reviews: 0\n",
            "Maximum review length: 825\n"
          ]
        }
      ],
      "source": [
        "val_review_lens = Counter([len(i) for i in x_val])\n",
        "print(\"Zero-length reviews: {}\".format(val_review_lens[0]))\n",
        "print(\"Maximum review length: {}\".format(max(val_review_lens)))"
      ]
    },
    {
      "cell_type": "code",
      "execution_count": 81,
      "id": "b1eb6984",
      "metadata": {
        "colab": {
          "base_uri": "https://localhost:8080/",
          "height": 241
        },
        "id": "b1eb6984",
        "outputId": "52f5488e-8ebb-423e-a140-9e09d0cb12ea"
      },
      "outputs": [
        {
          "output_type": "display_data",
          "data": {
            "text/plain": [
              "<Figure size 576x216 with 1 Axes>"
            ],
            "image/png": "[encoded data removed]"
          },
          "metadata": {
            "needs_background": "light"
          }
        }
      ],
      "source": [
        "val_data_for_plot = [len(i) for i in x_val]\n",
        "# fixed bin size\n",
        "bins = np.arange(0, 100, 20) # fixed bin size\n",
        "plt.xlim([min(val_data_for_plot)-5, max(val_data_for_plot)/4+5])\n",
        "plt.hist(val_data_for_plot, bins=bins, alpha=0.8)\n",
        "plt.title('Train reviews lenght histogram')\n",
        "plt.xlabel('variable X (bin size = 5)')\n",
        "plt.ylabel('count')\n",
        "plt.show()"
      ]
    },
    {
      "cell_type": "markdown",
      "id": "6d811c39",
      "metadata": {
        "id": "6d811c39"
      },
      "source": [
        "To decrease RNN training time the maximum review length will be cut to 100 words. For reviews shorter than 100, we'll pad with 0s. For reviews longer than 100, we can truncate them to the first 100 words."
      ]
    },
    {
      "cell_type": "markdown",
      "id": "eb3041bb",
      "metadata": {
        "id": "eb3041bb"
      },
      "source": [
        "### Encoding the words with provided vocabulary"
      ]
    },
    {
      "cell_type": "code",
      "execution_count": 82,
      "id": "45d5c318",
      "metadata": {
        "id": "45d5c318"
      },
      "outputs": [],
      "source": [
        "def read_vocab():\n",
        "    vocab = pd.read_csv('https://raw.githubusercontent.com/yonay1/lstm_sentiment_analysis/main/imdb.csv')\n",
        "    '''file format: \"idx : word\" '''\n",
        "    word2id, id2word = {}, {}\n",
        "    for word in vocab['WORDS']:\n",
        "        #word = line.strip()\n",
        "        idx = len(word2id)\n",
        "        if word not in word2id:\n",
        "            word2id[word] = idx\n",
        "            id2word[idx] = word\n",
        "    return word2id, id2word \n",
        "\n",
        "word2id, id2word  = read_vocab()\n",
        "\n",
        "def encode_review(text, word2id):\n",
        "    '''Converts text to numbers. Each word in the text is looked up in the dictionary\n",
        "    and replaced by the corresponding number. If the word is not found - it is replaced with special vector.\n",
        "    '''\n",
        "    # '0' will enlist not only \"the\" token but also all not found words\n",
        "    # we assume that our network will learn it\n",
        "    return [word2id[word] if word in word2id else 0 for word in text]\n",
        "\n"
      ]
    },
    {
      "cell_type": "code",
      "execution_count": 83,
      "id": "fe935883",
      "metadata": {
        "id": "fe935883"
      },
      "outputs": [],
      "source": [
        "train_reviews_ints = []\n",
        "test_reviews_ints = []\n",
        "val_reviews_ints = []\n",
        "\n",
        "for each_review in x_train:\n",
        "    train_reviews_ints.append(encode_review(each_review, word2id))\n",
        "for each_review in x_test:\n",
        "    test_reviews_ints.append(encode_review(each_review, word2id))\n",
        "for each_review in x_val:\n",
        "    val_reviews_ints.append(encode_review(each_review, word2id))    "
      ]
    },
    {
      "cell_type": "code",
      "execution_count": 84,
      "id": "028adbd7",
      "metadata": {
        "colab": {
          "base_uri": "https://localhost:8080/"
        },
        "id": "028adbd7",
        "outputId": "69a324b4-8058-43f6-e0f8-a397b85e6c58"
      },
      "outputs": [
        {
          "output_type": "execute_result",
          "data": {
            "text/plain": [
              "(30000, 3750)"
            ]
          },
          "metadata": {},
          "execution_count": 84
        }
      ],
      "source": [
        "len(train_reviews_ints), len(test_reviews_ints)"
      ]
    },
    {
      "cell_type": "markdown",
      "id": "efa044be",
      "metadata": {
        "id": "efa044be"
      },
      "source": [
        "### Padding short reviewes and cutting the lenght of the reviews"
      ]
    },
    {
      "cell_type": "code",
      "execution_count": 85,
      "id": "c1e34397",
      "metadata": {
        "id": "c1e34397"
      },
      "outputs": [],
      "source": [
        "seq_len = 100\n",
        "\n",
        "#padding with zeroes\n",
        "prepared_train_review = np.zeros((len(train_reviews_ints), seq_len), dtype=int)\n",
        "prepared_test_review = np.zeros((len(test_reviews_ints), seq_len), dtype=int)\n",
        "prepared_val_review = np.zeros((len(val_reviews_ints), seq_len), dtype=int)\n",
        "\n",
        "#cutting the lenght\n",
        "for review_number, int_review in enumerate(train_reviews_ints):\n",
        "    prepared_train_review[review_number, -len(int_review):] = np.array(int_review)[:seq_len]\n",
        "\n",
        "for review_number, int_review in enumerate(test_reviews_ints):\n",
        "    prepared_test_review[review_number, -len(int_review):] = np.array(int_review)[:seq_len]\n",
        "    \n",
        "for review_number, int_review in enumerate(val_reviews_ints):\n",
        "    prepared_val_review[review_number, -len(int_review):] = np.array(int_review)[:seq_len]    "
      ]
    },
    {
      "cell_type": "code",
      "execution_count": 86,
      "id": "d5d0de6d",
      "metadata": {
        "id": "d5d0de6d"
      },
      "outputs": [],
      "source": [
        "#prepared_val_review[:10,:100]"
      ]
    },
    {
      "cell_type": "markdown",
      "id": "01f34463",
      "metadata": {
        "id": "01f34463"
      },
      "source": [
        "### Embeddings"
      ]
    },
    {
      "cell_type": "markdown",
      "id": "633d8da4",
      "metadata": {
        "id": "633d8da4"
      },
      "source": [
        "###### Develop word2vec embeddings\n",
        "\n",
        "https://machinelearningmastery.com/develop-word-embeddings-python-gensim/"
      ]
    },
    {
      "cell_type": "code",
      "execution_count": 87,
      "id": "9f2fc982",
      "metadata": {
        "colab": {
          "base_uri": "https://localhost:8080/"
        },
        "id": "9f2fc982",
        "outputId": "c0be61c9-748c-48ee-a168-0e04f7a29bc0"
      },
      "outputs": [
        {
          "output_type": "stream",
          "name": "stdout",
          "text": [
            "['fasttext-wiki-news-subwords-300', 'conceptnet-numberbatch-17-06-300', 'word2vec-ruscorpora-300', 'word2vec-google-news-300', 'glove-wiki-gigaword-50', 'glove-wiki-gigaword-100', 'glove-wiki-gigaword-200', 'glove-wiki-gigaword-300', 'glove-twitter-25', 'glove-twitter-50', 'glove-twitter-100', 'glove-twitter-200', '__testing_word2vec-matrix-synopsis']\n"
          ]
        }
      ],
      "source": [
        "# Show all available models in gensim-data\n",
        "print(list(gensim.downloader.info()['models'].keys()))"
      ]
    },
    {
      "cell_type": "code",
      "execution_count": 88,
      "id": "6d8669ad",
      "metadata": {
        "colab": {
          "base_uri": "https://localhost:8080/"
        },
        "id": "6d8669ad",
        "outputId": "7f60d334-b14b-4761-a850-1d0e69001337"
      },
      "outputs": [
        {
          "output_type": "stream",
          "name": "stdout",
          "text": [
            "GPU is available\n"
          ]
        }
      ],
      "source": [
        "is_cuda = torch.cuda.is_available()\n",
        "\n",
        "# If we have a GPU available, we'll set our device to GPU. We'll use this device variable later in our code.\n",
        "if is_cuda:\n",
        "    device = torch.device(\"cuda\")\n",
        "    print(\"GPU is available\")\n",
        "else:\n",
        "    device = torch.device(\"cpu\")\n",
        "    print(\"GPU not available, CPU used\")"
      ]
    },
    {
      "cell_type": "code",
      "execution_count": 89,
      "id": "a1bf569d",
      "metadata": {
        "colab": {
          "base_uri": "https://localhost:8080/"
        },
        "id": "a1bf569d",
        "outputId": "550384ed-a5ce-4316-b01b-54fa36d2259e",
        "scrolled": true
      },
      "outputs": [
        {
          "output_type": "execute_result",
          "data": {
            "text/plain": [
              "Embedding(1193514, 100)"
            ]
          },
          "metadata": {},
          "execution_count": 89
        }
      ],
      "source": [
        "n_vocab = len(word2id)\n",
        "n_embed = 100\n",
        "\n",
        "glove_path = gensim.downloader.load('glove-twitter-100', return_path=True)\n",
        "try:\n",
        "    glove_model = gensim.models.KeyedVectors.load_word2vec_format(glove_path)\n",
        "except:\n",
        "    glove_model = gensim.models.KeyedVectors.load_word2vec_format(glove_path, binary=True)\n",
        "\n",
        "#loading the weights into torch Embeddings\n",
        "weights = torch.FloatTensor(glove_model.vectors)\n",
        "# Build nn.Embedding() layer\n",
        "embedding = nn.Embedding.from_pretrained(weights) \n",
        "\n",
        "encoder = nn.Embedding(n_vocab, n_embed)\n",
        "\n",
        "embedding.requires_grad_(False)\n"
      ]
    },
    {
      "cell_type": "markdown",
      "id": "c6139fae",
      "metadata": {
        "id": "c6139fae"
      },
      "source": [
        "## Data Loders and batching"
      ]
    },
    {
      "cell_type": "code",
      "execution_count": 90,
      "id": "95d7d40d",
      "metadata": {
        "id": "95d7d40d"
      },
      "outputs": [],
      "source": [
        "# create Tensor datasets\n",
        "train_data = TensorDataset(torch.from_numpy(prepared_train_review), torch.from_numpy(y_train.to_numpy()))\n",
        "valid_data = TensorDataset(torch.from_numpy(prepared_val_review), torch.from_numpy(y_val.to_numpy()))\n",
        "test_data = TensorDataset(torch.from_numpy(prepared_test_review), torch.from_numpy(y_test.to_numpy()))\n",
        "\n",
        "# dataloaders\n",
        "batch_size = 50\n",
        "\n",
        "train_loader = DataLoader(train_data, shuffle=True, batch_size=batch_size)\n",
        "valid_loader = DataLoader(valid_data, shuffle=True, batch_size=batch_size)\n",
        "test_loader = DataLoader(test_data, shuffle=True, batch_size=batch_size)"
      ]
    },
    {
      "cell_type": "markdown",
      "id": "7287837f",
      "metadata": {
        "id": "7287837f"
      },
      "source": [
        "## Training"
      ]
    },
    {
      "cell_type": "code",
      "execution_count": 91,
      "id": "00dc2484",
      "metadata": {
        "id": "00dc2484"
      },
      "outputs": [],
      "source": [
        "# DEFINE THE LSTM MODEL\n",
        "class CustomLSTM(nn.Module):\n",
        "    #def __init__(self, input_sz, hidden_sz):\n",
        "    def __init__(self, n_vocab, n_embed, n_hidden, n_output, n_layers, encoder, drop_p = 0.5):\n",
        "        super().__init__()\n",
        "        self.n_embed = n_embed        \n",
        "        self.n_vocab = n_vocab     # number of unique words in vocabulary\n",
        "        self.n_layers = n_layers   # number of LSTM layers \n",
        "        self.n_hidden = n_hidden   # number of hidden nodes in LSTM\n",
        "        \n",
        "        self.embedding = encoder\n",
        "        \n",
        "        self.dropout = nn.Dropout(drop_p)\n",
        "        self.fc = nn.Linear(n_hidden, n_output)\n",
        "        self.sigmoid = nn.Sigmoid()\n",
        "        \n",
        "        self.W = nn.Parameter(torch.Tensor(n_embed, n_hidden * 4))\n",
        "        self.U = nn.Parameter(torch.Tensor(n_hidden, n_hidden * 4))\n",
        "        self.bias = nn.Parameter(torch.Tensor(n_hidden * 4))\n",
        "        self.init_weights()\n",
        "                \n",
        "    def init_weights(self):\n",
        "        stdv = 1.0 / math.sqrt(self.n_hidden)\n",
        "        for weight in self.parameters():\n",
        "            weight.data.uniform_(-stdv, stdv)\n",
        "         \n",
        "    def forward(self, x, \n",
        "                init_states=None):\n",
        "        \n",
        "        x = self.embedding(x)    # (batch_size, seq_length, n_embed)\n",
        "\n",
        "        \"\"\"Assumes x is of shape (batch, sequence, feature)\"\"\"\n",
        "        bs, seq_sz, _ = x.size()\n",
        "        hidden_seq = []\n",
        "        if init_states is None:\n",
        "            h_t, c_t = (torch.zeros(bs, self.n_hidden).to(x.device), \n",
        "                        torch.zeros(bs, self.n_hidden).to(x.device))\n",
        "        else:\n",
        "            h_t, c_t = init_states\n",
        "         \n",
        "        HS = self.n_hidden\n",
        "        for t in range(seq_sz):\n",
        "            x_t = x[:, t, :]\n",
        "            # batch the computations into a single matrix multiplication\n",
        "            gates = x_t @ self.W + h_t @ self.U + self.bias\n",
        "            i_t, f_t, g_t, o_t = (\n",
        "                torch.sigmoid(gates[:, :HS]), # input\n",
        "                torch.sigmoid(gates[:, HS:HS*2]), # forget\n",
        "                torch.tanh(gates[:, HS*2:HS*3]),\n",
        "                torch.sigmoid(gates[:, HS*3:]), # output\n",
        "            )\n",
        "            c_t = f_t * c_t + i_t * g_t\n",
        "            h_t = o_t * torch.tanh(c_t)\n",
        "            hidden_seq.append(h_t.unsqueeze(0))\n",
        "        hidden_seq = torch.cat(hidden_seq, dim=0)\n",
        "        # reshape from shape (sequence, batch, feature) to (batch, sequence, feature)\n",
        "        hidden_seq = hidden_seq.transpose(0, 1).contiguous()\n",
        "        hidden_seq, (h_t, c_t)\n",
        "        lstm_out, h = hidden_seq, (h_t, c_t)      # (batch_size, seq_length, n_hidden)\n",
        "        lstm_out = self.dropout(lstm_out)\n",
        "        lstm_out = lstm_out.contiguous().view(-1, self.n_hidden) # (batch_size*seq_length, n_hidden)\n",
        "        fc_out = self.fc(lstm_out)                      # (batch_size*seq_length, n_output)\n",
        "        sigmoid_out = self.sigmoid(fc_out)              # (batch_size*seq_length, n_output)\n",
        "        sigmoid_out = sigmoid_out.view(batch_size, -1)  # (batch_size, seq_length*n_output)\n",
        "        \n",
        "        # extract only the output of the last output of the last element of the sequence\n",
        "        sigmoid_last = sigmoid_out[:, -1]               # (batch_size, 1)\n",
        "        return sigmoid_last, h\n",
        "    \n",
        "    def init_hidden (self, batch_size):  # initialize hidden weights (h,c) to 0\n",
        "        \n",
        "        weights = next(self.parameters()).data\n",
        "        h = (weights.new(self.n_layers, batch_size, self.n_hidden).zero_(),\n",
        "             weights.new(self.n_layers, batch_size, self.n_hidden).zero_())\n",
        "        \n",
        "        return h"
      ]
    },
    {
      "cell_type": "code",
      "execution_count": 92,
      "id": "3709ae50",
      "metadata": {
        "id": "3709ae50"
      },
      "outputs": [],
      "source": [
        "# Instansiate the model hyperparameters\n",
        "n_vocab = len(word2id)\n",
        "n_embed = 100\n",
        "n_hidden = 20\n",
        "n_output = 1   # 1 (\"positive\") or 0 (\"negative\")\n",
        "n_layers = 2\n",
        "\n",
        "net = CustomLSTM(n_vocab, n_embed, n_hidden, n_output, n_layers, encoder = encoder)"
      ]
    },
    {
      "cell_type": "code",
      "execution_count": 93,
      "id": "7ea42e02",
      "metadata": {
        "id": "7ea42e02"
      },
      "outputs": [],
      "source": [
        "# Define Loss & Optimizer\n",
        "criterion = nn.BCELoss()\n",
        "optimizer = optim.Adam(net.parameters(), lr = 0.01)"
      ]
    },
    {
      "cell_type": "code",
      "execution_count": 94,
      "id": "4b95e386",
      "metadata": {
        "id": "4b95e386"
      },
      "outputs": [],
      "source": [
        "#TRAIN THE NETWORK!\n",
        "def train_lstm(net, n_epochs, optimizer):\n",
        "    train_losses = [None]\n",
        "    val_losses = [None]\n",
        "    print_every = 100\n",
        "    step = 0\n",
        "    clip = 5  # for gradient clip to prevent exploding gradient problem in LSTM/RNN\n",
        "\n",
        "    test_losses = []\n",
        "    test_accuracies = []\n",
        "    \n",
        "\n",
        "    for epoch in range(n_epochs):\n",
        "        train_lst = []\n",
        "        val_lst = []\n",
        "        h = net.init_hidden(batch_size)\n",
        "\n",
        "        for inputs, labels in train_loader:\n",
        "            step += 1\n",
        "\n",
        "            # making requires_grad = False for the latest set of h\n",
        "            h = tuple([each.data for each in h])   \n",
        "\n",
        "            net.zero_grad()\n",
        "            output, h = net(inputs)\n",
        "            loss = criterion(output.squeeze(), labels.float().squeeze())\n",
        "            loss.backward()\n",
        "            nn.utils.clip_grad_norm(net.parameters(), clip)\n",
        "            optimizer.step()\n",
        "\n",
        "            if (step % print_every) == 0:            \n",
        "                ######################\n",
        "                ##### VALIDATION #####\n",
        "                ######################\n",
        "                net.eval()\n",
        "                valid_losses = []\n",
        "                v_h = net.init_hidden(batch_size)\n",
        "\n",
        "                for v_inputs, v_labels in valid_loader:\n",
        "                    v_inputs, v_labels = inputs, labels\n",
        "\n",
        "                    v_h = tuple([each.data for each in v_h])\n",
        "\n",
        "                    v_output, v_h = net(v_inputs)\n",
        "                    v_loss = criterion(v_output.squeeze(), v_labels.float().squeeze())\n",
        "                    valid_losses.append(v_loss.item())\n",
        "\n",
        "                print(\"Epoch: {}/{}\".format((epoch+1), n_epochs),\n",
        "                      \"Step: {}\".format(step),\n",
        "                      \"Training Loss: {:.4f}\".format(loss.item()),\n",
        "                      \"Validation Loss: {:.4f}\".format(np.mean(valid_losses)))\n",
        "                \n",
        "                train_lst.append(loss.item())\n",
        "                val_lst.append(np.mean(valid_losses))\n",
        "                net.train()\n",
        "        \n",
        "        \n",
        "        train_losses.append(np.mean(train_lst))\n",
        "        val_losses.append(np.mean(val_lst))\n",
        "       \n",
        "    \n",
        "    return net, train_losses, val_losses"
      ]
    },
    {
      "cell_type": "markdown",
      "id": "427d9151",
      "metadata": {
        "id": "427d9151"
      },
      "source": [
        "# Results "
      ]
    },
    {
      "cell_type": "code",
      "execution_count": 95,
      "id": "0e11e57d",
      "metadata": {
        "colab": {
          "base_uri": "https://localhost:8080/"
        },
        "id": "0e11e57d",
        "outputId": "bab596d2-1b27-4ea5-f91e-cd5d12ab4cbb"
      },
      "outputs": [
        {
          "output_type": "stream",
          "name": "stderr",
          "text": [
            "/usr/local/lib/python3.7/dist-packages/ipykernel_launcher.py:28: UserWarning: torch.nn.utils.clip_grad_norm is now deprecated in favor of torch.nn.utils.clip_grad_norm_.\n"
          ]
        },
        {
          "output_type": "stream",
          "name": "stdout",
          "text": [
            "Epoch: 1/10 Step: 100 Training Loss: 0.5829 Validation Loss: 0.5648\n",
            "Epoch: 1/10 Step: 200 Training Loss: 0.6282 Validation Loss: 0.6217\n",
            "Epoch: 1/10 Step: 300 Training Loss: 0.4916 Validation Loss: 0.4321\n",
            "Epoch: 1/10 Step: 400 Training Loss: 0.7036 Validation Loss: 0.7065\n",
            "Epoch: 1/10 Step: 500 Training Loss: 0.3877 Validation Loss: 0.3881\n",
            "Epoch: 1/10 Step: 600 Training Loss: 0.4069 Validation Loss: 0.3405\n",
            "Epoch: 2/10 Step: 700 Training Loss: 0.4073 Validation Loss: 0.3642\n",
            "Epoch: 2/10 Step: 800 Training Loss: 0.4236 Validation Loss: 0.3583\n",
            "Epoch: 2/10 Step: 900 Training Loss: 0.3603 Validation Loss: 0.3201\n",
            "Epoch: 2/10 Step: 1000 Training Loss: 0.3677 Validation Loss: 0.3371\n",
            "Epoch: 2/10 Step: 1100 Training Loss: 0.3169 Validation Loss: 0.2717\n",
            "Epoch: 2/10 Step: 1200 Training Loss: 0.4574 Validation Loss: 0.4255\n",
            "Epoch: 3/10 Step: 1300 Training Loss: 0.3584 Validation Loss: 0.2780\n",
            "Epoch: 3/10 Step: 1400 Training Loss: 0.3500 Validation Loss: 0.3021\n",
            "Epoch: 3/10 Step: 1500 Training Loss: 0.4735 Validation Loss: 0.4040\n",
            "Epoch: 3/10 Step: 1600 Training Loss: 0.4085 Validation Loss: 0.3743\n",
            "Epoch: 3/10 Step: 1700 Training Loss: 0.3850 Validation Loss: 0.3063\n",
            "Epoch: 3/10 Step: 1800 Training Loss: 0.4201 Validation Loss: 0.2926\n",
            "Epoch: 4/10 Step: 1900 Training Loss: 0.3125 Validation Loss: 0.3039\n",
            "Epoch: 4/10 Step: 2000 Training Loss: 0.4564 Validation Loss: 0.3692\n",
            "Epoch: 4/10 Step: 2100 Training Loss: 0.4072 Validation Loss: 0.3730\n",
            "Epoch: 4/10 Step: 2200 Training Loss: 0.2395 Validation Loss: 0.2102\n",
            "Epoch: 4/10 Step: 2300 Training Loss: 0.2228 Validation Loss: 0.2294\n",
            "Epoch: 4/10 Step: 2400 Training Loss: 0.2213 Validation Loss: 0.2229\n",
            "Epoch: 5/10 Step: 2500 Training Loss: 0.4024 Validation Loss: 0.3505\n",
            "Epoch: 5/10 Step: 2600 Training Loss: 0.3103 Validation Loss: 0.2768\n",
            "Epoch: 5/10 Step: 2700 Training Loss: 0.3463 Validation Loss: 0.2683\n",
            "Epoch: 5/10 Step: 2800 Training Loss: 0.2575 Validation Loss: 0.1999\n",
            "Epoch: 5/10 Step: 2900 Training Loss: 0.2402 Validation Loss: 0.2034\n",
            "Epoch: 5/10 Step: 3000 Training Loss: 0.2193 Validation Loss: 0.2222\n",
            "Epoch: 6/10 Step: 3100 Training Loss: 0.3738 Validation Loss: 0.3014\n",
            "Epoch: 6/10 Step: 3200 Training Loss: 0.2739 Validation Loss: 0.2379\n",
            "Epoch: 6/10 Step: 3300 Training Loss: 0.3310 Validation Loss: 0.3012\n",
            "Epoch: 6/10 Step: 3400 Training Loss: 0.3033 Validation Loss: 0.2391\n",
            "Epoch: 6/10 Step: 3500 Training Loss: 0.3533 Validation Loss: 0.2315\n",
            "Epoch: 6/10 Step: 3600 Training Loss: 0.1960 Validation Loss: 0.1477\n",
            "Epoch: 7/10 Step: 3700 Training Loss: 0.3225 Validation Loss: 0.2421\n",
            "Epoch: 7/10 Step: 3800 Training Loss: 0.2504 Validation Loss: 0.2516\n",
            "Epoch: 7/10 Step: 3900 Training Loss: 0.2946 Validation Loss: 0.2337\n",
            "Epoch: 7/10 Step: 4000 Training Loss: 0.2915 Validation Loss: 0.2562\n",
            "Epoch: 7/10 Step: 4100 Training Loss: 0.2292 Validation Loss: 0.2076\n",
            "Epoch: 7/10 Step: 4200 Training Loss: 0.2793 Validation Loss: 0.2211\n",
            "Epoch: 8/10 Step: 4300 Training Loss: 0.1891 Validation Loss: 0.1382\n",
            "Epoch: 8/10 Step: 4400 Training Loss: 0.4118 Validation Loss: 0.2682\n",
            "Epoch: 8/10 Step: 4500 Training Loss: 0.4888 Validation Loss: 0.2893\n",
            "Epoch: 8/10 Step: 4600 Training Loss: 0.2713 Validation Loss: 0.2844\n",
            "Epoch: 8/10 Step: 4700 Training Loss: 0.4336 Validation Loss: 0.3860\n",
            "Epoch: 8/10 Step: 4800 Training Loss: 0.4618 Validation Loss: 0.3546\n",
            "Epoch: 9/10 Step: 4900 Training Loss: 0.2374 Validation Loss: 0.1981\n",
            "Epoch: 9/10 Step: 5000 Training Loss: 0.1565 Validation Loss: 0.1212\n",
            "Epoch: 9/10 Step: 5100 Training Loss: 0.1964 Validation Loss: 0.1720\n",
            "Epoch: 9/10 Step: 5200 Training Loss: 0.2773 Validation Loss: 0.2357\n",
            "Epoch: 9/10 Step: 5300 Training Loss: 0.4049 Validation Loss: 0.3156\n",
            "Epoch: 9/10 Step: 5400 Training Loss: 0.4494 Validation Loss: 0.4214\n",
            "Epoch: 10/10 Step: 5500 Training Loss: 0.3935 Validation Loss: 0.4032\n",
            "Epoch: 10/10 Step: 5600 Training Loss: 0.1780 Validation Loss: 0.1498\n",
            "Epoch: 10/10 Step: 5700 Training Loss: 0.2757 Validation Loss: 0.1817\n",
            "Epoch: 10/10 Step: 5800 Training Loss: 0.2155 Validation Loss: 0.2118\n",
            "Epoch: 10/10 Step: 5900 Training Loss: 0.3585 Validation Loss: 0.3146\n",
            "Epoch: 10/10 Step: 6000 Training Loss: 0.4030 Validation Loss: 0.3525\n"
          ]
        }
      ],
      "source": [
        "n_epochs = 10\n",
        "net, train_losses, val_losses = train_lstm(net, n_epochs, optimizer)"
      ]
    },
    {
      "cell_type": "code",
      "execution_count": 96,
      "id": "3c2f083d",
      "metadata": {
        "id": "3c2f083d",
        "colab": {
          "base_uri": "https://localhost:8080/",
          "height": 241
        },
        "outputId": "cff73115-1a2c-4dbc-babf-5746e01425f0"
      },
      "outputs": [
        {
          "output_type": "display_data",
          "data": {
            "text/plain": [
              "<Figure size 576x216 with 1 Axes>"
            ],
            "image/png": "[encoded data removed]"
          },
          "metadata": {
            "needs_background": "light"
          }
        }
      ],
      "source": [
        "# summarize history for loss\n",
        "plt.rcParams[\"figure.figsize\"] = (8,3)\n",
        "plt.xlim([1, n_epochs])\n",
        "plt.plot(train_losses)\n",
        "plt.plot(val_losses)\n",
        "plt.title('Model loss vs Epochs')\n",
        "plt.ylabel('loss')\n",
        "plt.xlabel('epoch')\n",
        "plt.legend(['train', 'val'], loc='upper right')\n",
        "plt.show()"
      ]
    },
    {
      "cell_type": "markdown",
      "source": [
        "###Discussion\n",
        "As we increse the epoch number we can notice a decrease in both the tain loss and valetetion loss.\n",
        "This is an indication that the model is learning and able to give better predictions for higher epoch numbers.\n",
        "We have noticed that after reaching 6-7 epoches the learning curve stabilizes. This means that a further increase in the epoch number won't be neccesary.\n",
        "The results are fur not optimal and we hope to perfect our model in the future."
      ],
      "metadata": {
        "id": "oklOvtNxA--g"
      },
      "id": "oklOvtNxA--g"
    },
    {
      "cell_type": "code",
      "execution_count": 97,
      "id": "94c62793",
      "metadata": {
        "id": "94c62793"
      },
      "outputs": [],
      "source": [
        "def test_results(net, fp = False):\n",
        "    # Test the trained model on the test set\n",
        "    net.eval()\n",
        "    test_losses = []\n",
        "    num_correct = 0\n",
        "    test_h = net.init_hidden(batch_size)\n",
        "    test_out = []\n",
        "    test_labels = []\n",
        "\n",
        "    for inputs, labels in test_loader:\n",
        "        test_h = tuple([each.data for each in test_h])\n",
        "        test_output, test_h = net(inputs)\n",
        "        loss = criterion(test_output.squeeze(), labels.float().squeeze())\n",
        "        test_losses.append(loss.item())\n",
        "\n",
        "        preds = torch.round(test_output.squeeze())\n",
        "        correct_tensor = preds.eq(labels.float().view_as(preds))\n",
        "        correct = np.squeeze(correct_tensor.numpy())\n",
        "        num_correct += np.sum(correct)\n",
        "        if fp:\n",
        "            for i in range(50):\n",
        "                test_labels.append(labels.float()[i].item())\n",
        "                test_out.append(1-preds.float()[i].item())\n",
        "        else:\n",
        "            for i in range(50):\n",
        "                test_labels.append(labels.float()[i].item())\n",
        "                test_out.append(preds.float()[i].item())\n",
        "            \n",
        "    print(\"Test Loss: {:.4f}\".format(np.mean(test_losses)))\n",
        "    print(\"Test Accuracy: {:.2f}\".format(num_correct/len(test_loader.dataset)))\n",
        "    return  test_out, test_labels"
      ]
    },
    {
      "cell_type": "code",
      "source": [
        "test_out, test_labels = test_results(net)"
      ],
      "metadata": {
        "colab": {
          "base_uri": "https://localhost:8080/"
        },
        "id": "kkfqja2M6K0A",
        "outputId": "bf1b102f-6653-450d-eaf3-ef8e60837f62"
      },
      "id": "kkfqja2M6K0A",
      "execution_count": 98,
      "outputs": [
        {
          "output_type": "stream",
          "name": "stdout",
          "text": [
            "Test Loss: 0.4654\n",
            "Test Accuracy: 0.80\n"
          ]
        }
      ]
    },
    {
      "cell_type": "markdown",
      "source": [
        "###Discussion\n",
        "This model was able to preduce a low loss value and a high accuracy value after being checked on the test set.\n",
        "These results confirm that the module is able to classify the reviews efficiantly."
      ],
      "metadata": {
        "id": "lDFAbytuFG_G"
      },
      "id": "lDFAbytuFG_G"
    },
    {
      "cell_type": "code",
      "execution_count": 99,
      "id": "9a31ab8f",
      "metadata": {
        "id": "9a31ab8f",
        "colab": {
          "base_uri": "https://localhost:8080/",
          "height": 241
        },
        "outputId": "be16035d-bbc3-48a7-fa2a-407cc243b648"
      },
      "outputs": [
        {
          "output_type": "display_data",
          "data": {
            "text/plain": [
              "<Figure size 576x216 with 1 Axes>"
            ],
            "image/png": "[encoded data removed]"
          },
          "metadata": {
            "needs_background": "light"
          }
        }
      ],
      "source": [
        "#ROC curve and calculate AUC for the test set\n",
        "plt.rcParams[\"figure.figsize\"] = (8,3)\n",
        "plt.plot([0, 1], [0, 1], linestyle='--', lw=2, color='r', label='Random guess')\n",
        "fpr, tpr, _ = metrics.roc_curve(np.array(test_out), np.array(test_labels))\n",
        "auc = metrics.roc_auc_score(np.array(test_out),  np.array(test_labels))\n",
        "plt.plot(fpr, tpr, label=\"Data ROC, AUC=\"+str(auc))\n",
        "plt.title('ROC and ACU for the test set')\n",
        "plt.ylabel('TPR')\n",
        "plt.xlabel('FPR')\n",
        "plt.legend(loc=4)\n",
        "plt.show()"
      ]
    },
    {
      "cell_type": "markdown",
      "source": [
        "###Discussion\n",
        "the ROC curve and the AUC result shows us a high measure of separability. It tells us that the model is capable of distinguishing between classes. This means that the model is good at predicting 0 classes as 0 and 1 classes as 1"
      ],
      "metadata": {
        "id": "4tJsUrUVIBEh"
      },
      "id": "4tJsUrUVIBEh"
    },
    {
      "cell_type": "markdown",
      "id": "8cffe8b6",
      "metadata": {
        "id": "8cffe8b6"
      },
      "source": [
        "## second embedding"
      ]
    },
    {
      "cell_type": "code",
      "execution_count": 48,
      "id": "4438b31f",
      "metadata": {
        "colab": {
          "base_uri": "https://localhost:8080/"
        },
        "id": "4438b31f",
        "outputId": "3ab19b97-6ec3-465c-de2b-66fe932baade"
      },
      "outputs": [
        {
          "output_type": "execute_result",
          "data": {
            "text/plain": [
              "Embedding(3000000, 300)"
            ]
          },
          "metadata": {},
          "execution_count": 48
        }
      ],
      "source": [
        "n_vocab = len(word2id)\n",
        "\n",
        "glove_path = gensim.downloader.load('word2vec-google-news-300', return_path=True)\n",
        "try:\n",
        "    glove_model = gensim.models.KeyedVectors.load_word2vec_format(glove_path)\n",
        "except:\n",
        "    glove_model = gensim.models.KeyedVectors.load_word2vec_format(glove_path, binary=True)\n",
        "\n",
        "#loading the weights into torch Embeddings\n",
        "weights1 = torch.FloatTensor(glove_model.vectors)\n",
        "# Build nn.Embedding() layer\n",
        "embedding1 = nn.Embedding.from_pretrained(weights1) \n",
        "\n",
        "encoder1 = nn.Embedding(n_vocab, n_embed)\n",
        "#encoder(torch.from_numpy(prepared_train_review[0]))\n",
        "\n",
        "embedding1.requires_grad_(False)"
      ]
    },
    {
      "cell_type": "code",
      "execution_count": 49,
      "id": "feacf9c3",
      "metadata": {
        "id": "feacf9c3"
      },
      "outputs": [],
      "source": [
        "n1_vocab = len(word2id)\n",
        "n1_embed = 100\n",
        "n1_hidden = 20\n",
        "n1_output = 1   # 1 (\"positive\") or 0 (\"negative\")\n",
        "n1_layers = 2\n",
        "net1 = CustomLSTM(n1_vocab, n1_embed, n1_hidden, n1_output, n1_layers, encoder = encoder1)"
      ]
    },
    {
      "cell_type": "code",
      "source": [
        "optimizer1 = optim.Adam(net1.parameters(), lr = 0.01)"
      ],
      "metadata": {
        "id": "9hd-feKyz9zJ"
      },
      "id": "9hd-feKyz9zJ",
      "execution_count": 53,
      "outputs": []
    },
    {
      "cell_type": "code",
      "execution_count": 54,
      "id": "a34256f0",
      "metadata": {
        "colab": {
          "base_uri": "https://localhost:8080/"
        },
        "id": "a34256f0",
        "outputId": "310f098e-31a7-4a87-eeb0-605928a79398"
      },
      "outputs": [
        {
          "output_type": "stream",
          "name": "stderr",
          "text": [
            "/usr/local/lib/python3.7/dist-packages/ipykernel_launcher.py:28: UserWarning: torch.nn.utils.clip_grad_norm is now deprecated in favor of torch.nn.utils.clip_grad_norm_.\n"
          ]
        },
        {
          "output_type": "stream",
          "name": "stdout",
          "text": [
            "Epoch: 1/10 Step: 100 Training Loss: 0.5434 Validation Loss: 0.5263\n",
            "Epoch: 1/10 Step: 200 Training Loss: 0.7230 Validation Loss: 0.6347\n",
            "Epoch: 1/10 Step: 300 Training Loss: 0.5249 Validation Loss: 0.4761\n",
            "Epoch: 1/10 Step: 400 Training Loss: 0.4180 Validation Loss: 0.4278\n",
            "Epoch: 1/10 Step: 500 Training Loss: 0.6441 Validation Loss: 0.6094\n",
            "Epoch: 1/10 Step: 600 Training Loss: 0.5019 Validation Loss: 0.4919\n",
            "Epoch: 2/10 Step: 700 Training Loss: 0.4197 Validation Loss: 0.3516\n",
            "Epoch: 2/10 Step: 800 Training Loss: 0.5890 Validation Loss: 0.5219\n",
            "Epoch: 2/10 Step: 900 Training Loss: 0.3324 Validation Loss: 0.2945\n",
            "Epoch: 2/10 Step: 1000 Training Loss: 0.3784 Validation Loss: 0.3440\n",
            "Epoch: 2/10 Step: 1100 Training Loss: 0.6231 Validation Loss: 0.5003\n",
            "Epoch: 2/10 Step: 1200 Training Loss: 0.4335 Validation Loss: 0.3795\n",
            "Epoch: 3/10 Step: 1300 Training Loss: 0.4612 Validation Loss: 0.4128\n",
            "Epoch: 3/10 Step: 1400 Training Loss: 0.2768 Validation Loss: 0.2583\n",
            "Epoch: 3/10 Step: 1500 Training Loss: 0.5321 Validation Loss: 0.4574\n",
            "Epoch: 3/10 Step: 1600 Training Loss: 0.2663 Validation Loss: 0.2484\n",
            "Epoch: 3/10 Step: 1700 Training Loss: 0.4484 Validation Loss: 0.3515\n",
            "Epoch: 3/10 Step: 1800 Training Loss: 0.4601 Validation Loss: 0.3677\n",
            "Epoch: 4/10 Step: 1900 Training Loss: 0.4649 Validation Loss: 0.4098\n",
            "Epoch: 4/10 Step: 2000 Training Loss: 0.4537 Validation Loss: 0.3879\n",
            "Epoch: 4/10 Step: 2100 Training Loss: 0.2239 Validation Loss: 0.1928\n",
            "Epoch: 4/10 Step: 2200 Training Loss: 0.2370 Validation Loss: 0.2416\n",
            "Epoch: 4/10 Step: 2300 Training Loss: 0.2691 Validation Loss: 0.2019\n",
            "Epoch: 4/10 Step: 2400 Training Loss: 0.2726 Validation Loss: 0.2467\n",
            "Epoch: 5/10 Step: 2500 Training Loss: 0.2189 Validation Loss: 0.2043\n",
            "Epoch: 5/10 Step: 2600 Training Loss: 0.2359 Validation Loss: 0.2041\n",
            "Epoch: 5/10 Step: 2700 Training Loss: 0.5345 Validation Loss: 0.5190\n",
            "Epoch: 5/10 Step: 2800 Training Loss: 0.3848 Validation Loss: 0.3056\n",
            "Epoch: 5/10 Step: 2900 Training Loss: 0.4448 Validation Loss: 0.3669\n",
            "Epoch: 5/10 Step: 3000 Training Loss: 0.3356 Validation Loss: 0.2641\n",
            "Epoch: 6/10 Step: 3100 Training Loss: 0.4176 Validation Loss: 0.2930\n",
            "Epoch: 6/10 Step: 3200 Training Loss: 0.3814 Validation Loss: 0.2614\n",
            "Epoch: 6/10 Step: 3300 Training Loss: 0.2889 Validation Loss: 0.2912\n",
            "Epoch: 6/10 Step: 3400 Training Loss: 0.2302 Validation Loss: 0.2007\n",
            "Epoch: 6/10 Step: 3500 Training Loss: 0.5394 Validation Loss: 0.4213\n",
            "Epoch: 6/10 Step: 3600 Training Loss: 0.2778 Validation Loss: 0.2373\n",
            "Epoch: 7/10 Step: 3700 Training Loss: 0.2171 Validation Loss: 0.1775\n",
            "Epoch: 7/10 Step: 3800 Training Loss: 0.3661 Validation Loss: 0.2802\n",
            "Epoch: 7/10 Step: 3900 Training Loss: 0.3158 Validation Loss: 0.2112\n",
            "Epoch: 7/10 Step: 4000 Training Loss: 0.3269 Validation Loss: 0.2674\n",
            "Epoch: 7/10 Step: 4100 Training Loss: 0.5683 Validation Loss: 0.4833\n",
            "Epoch: 7/10 Step: 4200 Training Loss: 0.5085 Validation Loss: 0.3301\n",
            "Epoch: 8/10 Step: 4300 Training Loss: 0.2445 Validation Loss: 0.2064\n",
            "Epoch: 8/10 Step: 4400 Training Loss: 0.4153 Validation Loss: 0.3344\n",
            "Epoch: 8/10 Step: 4500 Training Loss: 0.2582 Validation Loss: 0.2219\n",
            "Epoch: 8/10 Step: 4600 Training Loss: 0.2736 Validation Loss: 0.2320\n",
            "Epoch: 8/10 Step: 4700 Training Loss: 0.5988 Validation Loss: 0.4676\n",
            "Epoch: 8/10 Step: 4800 Training Loss: 0.2919 Validation Loss: 0.2075\n",
            "Epoch: 9/10 Step: 4900 Training Loss: 0.3192 Validation Loss: 0.2490\n",
            "Epoch: 9/10 Step: 5000 Training Loss: 0.4936 Validation Loss: 0.3676\n",
            "Epoch: 9/10 Step: 5100 Training Loss: 0.2214 Validation Loss: 0.1467\n",
            "Epoch: 9/10 Step: 5200 Training Loss: 0.2930 Validation Loss: 0.2855\n",
            "Epoch: 9/10 Step: 5300 Training Loss: 0.2479 Validation Loss: 0.2060\n",
            "Epoch: 9/10 Step: 5400 Training Loss: 0.2861 Validation Loss: 0.2022\n",
            "Epoch: 10/10 Step: 5500 Training Loss: 0.3249 Validation Loss: 0.2120\n",
            "Epoch: 10/10 Step: 5600 Training Loss: 0.5575 Validation Loss: 0.4433\n",
            "Epoch: 10/10 Step: 5700 Training Loss: 0.2768 Validation Loss: 0.2332\n",
            "Epoch: 10/10 Step: 5800 Training Loss: 0.3153 Validation Loss: 0.1923\n",
            "Epoch: 10/10 Step: 5900 Training Loss: 0.3972 Validation Loss: 0.2723\n",
            "Epoch: 10/10 Step: 6000 Training Loss: 0.2628 Validation Loss: 0.2097\n"
          ]
        }
      ],
      "source": [
        "n_epochs1 = 10\n",
        "net1, train_losses1, val_losses1 = train_lstm(net1, n_epochs1, optimizer1)"
      ]
    },
    {
      "cell_type": "code",
      "execution_count": 55,
      "id": "fc72a613",
      "metadata": {
        "id": "fc72a613",
        "colab": {
          "base_uri": "https://localhost:8080/",
          "height": 241
        },
        "outputId": "f2d51e5f-13b7-4463-cd42-37ee39d32450"
      },
      "outputs": [
        {
          "output_type": "display_data",
          "data": {
            "text/plain": [
              "<Figure size 576x216 with 1 Axes>"
            ],
            "image/png": "[encoded data removed]"
          },
          "metadata": {
            "needs_background": "light"
          }
        }
      ],
      "source": [
        "# summarize history for loss\n",
        "plt.rcParams[\"figure.figsize\"] = (8,3)\n",
        "plt.plot(train_losses1)\n",
        "plt.plot(val_losses1)\n",
        "plt.title('Model loss vs Epochs')\n",
        "plt.ylabel('loss')\n",
        "plt.xlabel('epoch')\n",
        "plt.legend(['train', 'val'], loc='upper right')\n",
        "plt.show()"
      ]
    },
    {
      "cell_type": "markdown",
      "source": [
        "###Discussion\n",
        "Similarly to the previous, model the decrease in both the tain loss and valedetion loss indicates that the model is learning and able to give better predictions as we increase the epoch number.\n",
        "We have noticed that after reaching 4-5 epoches the learning curve stabilizes. Therefore, further increase in the epoch number won't be neccesary.\n",
        "We can conclude that this model learns faster that the first one. Nevertheless, It's redults are also not optimal.\n"
      ],
      "metadata": {
        "id": "lI-vKoIWJImv"
      },
      "id": "lI-vKoIWJImv"
    },
    {
      "cell_type": "code",
      "execution_count": 59,
      "id": "e99d939a",
      "metadata": {
        "id": "e99d939a",
        "colab": {
          "base_uri": "https://localhost:8080/"
        },
        "outputId": "02bff52e-4e04-4e7f-de15-cc3dd2c3ebd9"
      },
      "outputs": [
        {
          "output_type": "stream",
          "name": "stdout",
          "text": [
            "Test Loss: 0.4866\n",
            "Test Accuracy: 0.80\n"
          ]
        }
      ],
      "source": [
        "test_out1, test_labels1 = test_results(net1)"
      ]
    },
    {
      "cell_type": "markdown",
      "source": [
        "###Discussion\n",
        "This model model's results also confirm that the module is able to classify the reviews efficiantly. We have noticed that the test loss is slightly higher that the previous's. This means that the first model's predictions are a bit better."
      ],
      "metadata": {
        "id": "kAtGwcuyI38j"
      },
      "id": "kAtGwcuyI38j"
    },
    {
      "cell_type": "code",
      "execution_count": 60,
      "id": "d426deeb",
      "metadata": {
        "id": "d426deeb",
        "colab": {
          "base_uri": "https://localhost:8080/",
          "height": 241
        },
        "outputId": "f57f41c6-7f73-4a6f-e5a3-c5eb7cc5feaf"
      },
      "outputs": [
        {
          "output_type": "display_data",
          "data": {
            "text/plain": [
              "<Figure size 576x216 with 1 Axes>"
            ],
            "image/png": "[encoded data removed]"
          },
          "metadata": {
            "needs_background": "light"
          }
        }
      ],
      "source": [
        "#ROC curve and calculate AUC for the test set\n",
        "plt.rcParams[\"figure.figsize\"] = (8,3)\n",
        "plt.plot([0, 1], [0, 1], linestyle='--', lw=2, color='r', label='Random guess')\n",
        "fpr, tpr, _ = metrics.roc_curve(np.array(test_out1), np.array(test_labels1))\n",
        "auc = metrics.roc_auc_score(np.array(test_out1),  np.array(test_labels1))\n",
        "plt.plot(fpr, tpr, label=\"Data ROC, AUC=\"+str(auc))\n",
        "plt.title('ROC and ACU for the test set')\n",
        "plt.ylabel('TPR')\n",
        "plt.xlabel('FPR')\n",
        "plt.legend(loc=4)\n",
        "plt.show()"
      ]
    },
    {
      "cell_type": "markdown",
      "source": [
        "###Discussion\n",
        "the ROC curve and the AUC result resemble the first model and gives us similar conclusions. This model's auc is slightly higher than the previous one, however, this differance is very minor and we consider it to be accidental. "
      ],
      "metadata": {
        "id": "-x7WiTBrIyfN"
      },
      "id": "-x7WiTBrIyfN"
    },
    {
      "cell_type": "markdown",
      "id": "e14d1a10",
      "metadata": {
        "id": "e14d1a10"
      },
      "source": [
        "#Comperison\n",
        "So which gensim vectors you should use for your lstm model embedding?"
      ]
    },
    {
      "cell_type": "markdown",
      "source": [
        "the glove-twitter-100 provides slightly better results after a test loss comperison. Because the accuracy is equal we can conclude that glove-twitter-100's results are more assuring.\n"
      ],
      "metadata": {
        "id": "PCgiVzeeRRTd"
      },
      "id": "PCgiVzeeRRTd"
    },
    {
      "cell_type": "markdown",
      "source": [
        "word2vec-google-news-300 shines when it comes to RunTime because it needs less epoches to stabilize it's learning curve."
      ],
      "metadata": {
        "id": "bcnd222hU6Y0"
      },
      "id": "bcnd222hU6Y0"
    },
    {
      "cell_type": "markdown",
      "source": [
        "In conclusion, we would recomend word2vec-google-news-300 because it is faster."
      ],
      "metadata": {
        "id": "ZamKk8gRVfdk"
      },
      "id": "ZamKk8gRVfdk"
    }
  ],
  "metadata": {
    "accelerator": "GPU",
    "colab": {
      "name": "main (1).ipynb",
      "provenance": []
    },
    "kernelspec": {
      "display_name": "Python 3 (ipykernel)",
      "language": "python",
      "name": "python3"
    },
    "language_info": {
      "codemirror_mode": {
        "name": "ipython",
        "version": 3
      },
      "file_extension": ".py",
      "mimetype": "text/x-python",
      "name": "python",
      "nbconvert_exporter": "python",
      "pygments_lexer": "ipython3",
      "version": "3.8.12"
    }
  },
  "nbformat": 4,
  "nbformat_minor": 5
}