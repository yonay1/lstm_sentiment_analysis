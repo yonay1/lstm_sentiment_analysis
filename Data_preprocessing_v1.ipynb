{
 "cells": [
  {
   "cell_type": "code",
   "execution_count": 481,
   "id": "4ed519ff",
   "metadata": {},
   "outputs": [
    {
     "name": "stderr",
     "output_type": "stream",
     "text": [
      "[nltk_data] Downloading package stopwords to\n",
      "[nltk_data]     C:\\Users\\User\\AppData\\Roaming\\nltk_data...\n",
      "[nltk_data]   Package stopwords is already up-to-date!\n"
     ]
    }
   ],
   "source": [
    "import re\n",
    "import pandas as pd\n",
    "import numpy as np\n",
    "import os\n",
    "\n",
    "import gensim\n",
    "import nltk\n",
    "from nltk.tokenize.toktok import ToktokTokenizer\n",
    "\n",
    "from nltk.corpus import stopwords\n",
    "\n",
    "SEED = 42\n",
    "\n",
    "import torch\n",
    "import torch.nn as nn\n",
    "\n",
    "torch.manual_seed(SEED)\n",
    "torch.backends.cudnn.deterministic = True\n",
    "\n",
    "from nltk.corpus import stopwords\n",
    "nltk.download('stopwords')\n",
    "import math\n",
    "from torch.autograd import Variable\n",
    "from string import punctuation\n",
    "from torch import optim\n",
    "from torch.utils.data import TensorDataset, DataLoader\n",
    "from matplotlib import pyplot as plt\n",
    "from collections import Counter\n",
    "\n",
    "from sklearn import metrics\n",
    "\n",
    "\n",
    "#from bs4 import BeautifulSoup"
   ]
  },
  {
   "cell_type": "code",
   "execution_count": 482,
   "id": "ca0124ac",
   "metadata": {},
   "outputs": [],
   "source": [
    "#performing the following steps on our data\n",
    "#https://www.kaggle.com/lakshmi25npathi/sentiment-analysis-of-imdb-movie-reviews"
   ]
  },
  {
   "cell_type": "code",
   "execution_count": 483,
   "id": "a1891bd2",
   "metadata": {},
   "outputs": [
    {
     "name": "stdout",
     "output_type": "stream",
     "text": [
      "(37500, 4)\n"
     ]
    },
    {
     "data": {
      "text/html": [
       "<div>\n",
       "<style scoped>\n",
       "    .dataframe tbody tr th:only-of-type {\n",
       "        vertical-align: middle;\n",
       "    }\n",
       "\n",
       "    .dataframe tbody tr th {\n",
       "        vertical-align: top;\n",
       "    }\n",
       "\n",
       "    .dataframe thead th {\n",
       "        text-align: right;\n",
       "    }\n",
       "</style>\n",
       "<table border=\"1\" class=\"dataframe\">\n",
       "  <thead>\n",
       "    <tr style=\"text-align: right;\">\n",
       "      <th></th>\n",
       "      <th>user_id</th>\n",
       "      <th>rating</th>\n",
       "      <th>label</th>\n",
       "      <th>review</th>\n",
       "    </tr>\n",
       "  </thead>\n",
       "  <tbody>\n",
       "    <tr>\n",
       "      <th>0</th>\n",
       "      <td>0</td>\n",
       "      <td>9.0</td>\n",
       "      <td>positive</td>\n",
       "      <td>Bromwell High is a cartoon comedy. It ran at t...</td>\n",
       "    </tr>\n",
       "    <tr>\n",
       "      <th>1</th>\n",
       "      <td>10000</td>\n",
       "      <td>8.0</td>\n",
       "      <td>positive</td>\n",
       "      <td>Homelessness (or Houselessness as George Carli...</td>\n",
       "    </tr>\n",
       "    <tr>\n",
       "      <th>2</th>\n",
       "      <td>10001</td>\n",
       "      <td>10.0</td>\n",
       "      <td>positive</td>\n",
       "      <td>Brilliant over-acting by Lesley Ann Warren. Be...</td>\n",
       "    </tr>\n",
       "    <tr>\n",
       "      <th>3</th>\n",
       "      <td>10002</td>\n",
       "      <td>7.0</td>\n",
       "      <td>positive</td>\n",
       "      <td>This is easily the most underrated film inn th...</td>\n",
       "    </tr>\n",
       "    <tr>\n",
       "      <th>4</th>\n",
       "      <td>10003</td>\n",
       "      <td>8.0</td>\n",
       "      <td>positive</td>\n",
       "      <td>This is not the typical Mel Brooks film. It wa...</td>\n",
       "    </tr>\n",
       "  </tbody>\n",
       "</table>\n",
       "</div>"
      ],
      "text/plain": [
       "  user_id  rating     label                                             review\n",
       "0       0     9.0  positive  Bromwell High is a cartoon comedy. It ran at t...\n",
       "1   10000     8.0  positive  Homelessness (or Houselessness as George Carli...\n",
       "2   10001    10.0  positive  Brilliant over-acting by Lesley Ann Warren. Be...\n",
       "3   10002     7.0  positive  This is easily the most underrated film inn th...\n",
       "4   10003     8.0  positive  This is not the typical Mel Brooks film. It wa..."
      ]
     },
     "execution_count": 483,
     "metadata": {},
     "output_type": "execute_result"
    }
   ],
   "source": [
    "#importing the training data\n",
    "#imdb_data=pd.read_csv('All_rated_reviews.csv')\n",
    "imdb_data=pd.read_csv('All_rated_and_not_rated_reviews.csv')\n",
    "imdb_data = imdb_data.loc[:, ~imdb_data.columns.str.match('Unnamed')]\n",
    "print(imdb_data.shape)\n",
    "imdb_data.head(5)"
   ]
  },
  {
   "cell_type": "code",
   "execution_count": 484,
   "id": "decf413e",
   "metadata": {},
   "outputs": [
    {
     "data": {
      "text/html": [
       "<div>\n",
       "<style scoped>\n",
       "    .dataframe tbody tr th:only-of-type {\n",
       "        vertical-align: middle;\n",
       "    }\n",
       "\n",
       "    .dataframe tbody tr th {\n",
       "        vertical-align: top;\n",
       "    }\n",
       "\n",
       "    .dataframe thead th {\n",
       "        text-align: right;\n",
       "    }\n",
       "</style>\n",
       "<table border=\"1\" class=\"dataframe\">\n",
       "  <thead>\n",
       "    <tr style=\"text-align: right;\">\n",
       "      <th></th>\n",
       "      <th>rating</th>\n",
       "    </tr>\n",
       "  </thead>\n",
       "  <tbody>\n",
       "    <tr>\n",
       "      <th>count</th>\n",
       "      <td>25000.000000</td>\n",
       "    </tr>\n",
       "    <tr>\n",
       "      <th>mean</th>\n",
       "      <td>5.477720</td>\n",
       "    </tr>\n",
       "    <tr>\n",
       "      <th>std</th>\n",
       "      <td>3.466477</td>\n",
       "    </tr>\n",
       "    <tr>\n",
       "      <th>min</th>\n",
       "      <td>1.000000</td>\n",
       "    </tr>\n",
       "    <tr>\n",
       "      <th>25%</th>\n",
       "      <td>2.000000</td>\n",
       "    </tr>\n",
       "    <tr>\n",
       "      <th>50%</th>\n",
       "      <td>5.500000</td>\n",
       "    </tr>\n",
       "    <tr>\n",
       "      <th>75%</th>\n",
       "      <td>9.000000</td>\n",
       "    </tr>\n",
       "    <tr>\n",
       "      <th>max</th>\n",
       "      <td>10.000000</td>\n",
       "    </tr>\n",
       "  </tbody>\n",
       "</table>\n",
       "</div>"
      ],
      "text/plain": [
       "             rating\n",
       "count  25000.000000\n",
       "mean       5.477720\n",
       "std        3.466477\n",
       "min        1.000000\n",
       "25%        2.000000\n",
       "50%        5.500000\n",
       "75%        9.000000\n",
       "max       10.000000"
      ]
     },
     "execution_count": 484,
     "metadata": {},
     "output_type": "execute_result"
    }
   ],
   "source": [
    "#Summary of the dataset\n",
    "imdb_data.describe()"
   ]
  },
  {
   "cell_type": "code",
   "execution_count": 485,
   "id": "643ae88c",
   "metadata": {},
   "outputs": [
    {
     "data": {
      "text/plain": [
       "positive    18750\n",
       "negative    18750\n",
       "Name: label, dtype: int64"
      ]
     },
     "execution_count": 485,
     "metadata": {},
     "output_type": "execute_result"
    }
   ],
   "source": [
    "#sentiment count to see that the model is balanced\n",
    "imdb_data['label'].value_counts()"
   ]
  },
  {
   "cell_type": "code",
   "execution_count": 486,
   "id": "6a9663e4",
   "metadata": {},
   "outputs": [],
   "source": [
    "imdb_data['label'] = imdb_data['label'].apply(lambda x: 1 if x == 'positive' else 0 )"
   ]
  },
  {
   "cell_type": "markdown",
   "id": "5b366b18",
   "metadata": {},
   "source": [
    "## Text Normalization"
   ]
  },
  {
   "cell_type": "code",
   "execution_count": 487,
   "id": "1bfadbcc",
   "metadata": {},
   "outputs": [],
   "source": [
    "#nltk.download()\n",
    "#showing info http://nltk.github.com/nltk_data/"
   ]
  },
  {
   "cell_type": "code",
   "execution_count": 488,
   "id": "c4425d5f",
   "metadata": {},
   "outputs": [],
   "source": [
    "#Tokenization of text\n",
    "tokenizer = ToktokTokenizer()\n",
    "#Setting English stopwords\n",
    "stopword_list = nltk.corpus.stopwords.words('english')"
   ]
  },
  {
   "cell_type": "markdown",
   "id": "454f3179",
   "metadata": {},
   "source": [
    "#### Removing noise from text"
   ]
  },
  {
   "cell_type": "code",
   "execution_count": 489,
   "id": "01c4f9c5",
   "metadata": {},
   "outputs": [
    {
     "data": {
      "text/plain": [
       "'Bromwell High is a cartoon comedy. It ran at the same time as some other programs about school life, such as \"Teachers\". My 35 years in the teaching profession lead me to believe that Bromwell High\\'s satire is much closer to reality than is \"Teachers\". The scramble to survive financially, the insightful students who can see right through their pathetic teachers\\' pomp, the pettiness of the whole situation, all remind me of the schools I knew and their students. When I saw the episode in which a student repeatedly tried to burn down the school, I immediately recalled ......... at .......... High. A classic line: INSPECTOR: I\\'m here to sack one of your teachers. STUDENT: Welcome to Bromwell High. I expect that many adults of my age think that Bromwell High is far fetched. What a pity that it isn\\'t!'"
      ]
     },
     "execution_count": 489,
     "metadata": {},
     "output_type": "execute_result"
    }
   ],
   "source": [
    "#Removing the html strips\n",
    "# def strip_html(text):\n",
    "#     soup = BeautifulSoup(text, \"html.parser\")\n",
    "#     return soup.get_text()\n",
    "\n",
    "#Removing the square brackets\n",
    "def remove_between_square_brackets(text):\n",
    "    return re.sub('\\[[^]]*\\]', '', text)\n",
    "\n",
    "#Removing the noisy text\n",
    "def denoise_text(text):\n",
    "    #text = strip_html(text)\n",
    "    text = remove_between_square_brackets(text)\n",
    "    return text\n",
    "\n",
    "#Apply function on review column\n",
    "imdb_data['review']=imdb_data['review'].apply(denoise_text)\n",
    "imdb_data['review'][0]"
   ]
  },
  {
   "cell_type": "markdown",
   "id": "1836eea9",
   "metadata": {},
   "source": [
    "#### Removing special characters"
   ]
  },
  {
   "cell_type": "code",
   "execution_count": 490,
   "id": "af603ce6",
   "metadata": {},
   "outputs": [
    {
     "data": {
      "text/plain": [
       "'Bromwell High is a cartoon comedy It ran at the same time as some other programs about school life such as Teachers My 35 years in the teaching profession lead me to believe that Bromwell Highs satire is much closer to reality than is Teachers The scramble to survive financially the insightful students who can see right through their pathetic teachers pomp the pettiness of the whole situation all remind me of the schools I knew and their students When I saw the episode in which a student repeatedly tried to burn down the school I immediately recalled  at  High A classic line INSPECTOR Im here to sack one of your teachers STUDENT Welcome to Bromwell High I expect that many adults of my age think that Bromwell High is far fetched What a pity that it isnt'"
      ]
     },
     "execution_count": 490,
     "metadata": {},
     "output_type": "execute_result"
    }
   ],
   "source": [
    "#Define function for removing special characters\n",
    "def remove_special_characters(text, remove_digits=True):\n",
    "    pattern=r'[^a-zA-z0-9\\s]'\n",
    "    text=re.sub(pattern,'',text)\n",
    "    return text\n",
    "\n",
    "#Apply function on review column\n",
    "imdb_data['review']=imdb_data['review'].apply(remove_special_characters)\n",
    "imdb_data['review'][0]"
   ]
  },
  {
   "cell_type": "markdown",
   "id": "86d7a415",
   "metadata": {},
   "source": [
    "#### Text Stemming"
   ]
  },
  {
   "cell_type": "code",
   "execution_count": 491,
   "id": "b2f1f751",
   "metadata": {},
   "outputs": [
    {
     "data": {
      "text/plain": [
       "'bromwel high is a cartoon comedi it ran at the same time as some other program about school life such as teacher my 35 year in the teach profess lead me to believ that bromwel high satir is much closer to realiti than is teacher the scrambl to surviv financi the insight student who can see right through their pathet teacher pomp the petti of the whole situat all remind me of the school i knew and their student when i saw the episod in which a student repeatedli tri to burn down the school i immedi recal at high a classic line inspector im here to sack one of your teacher student welcom to bromwel high i expect that mani adult of my age think that bromwel high is far fetch what a piti that it isnt'"
      ]
     },
     "execution_count": 491,
     "metadata": {},
     "output_type": "execute_result"
    }
   ],
   "source": [
    "#Stemming the text (plays, playing, played -> play)\n",
    "def simple_stemmer(text):\n",
    "    ps=nltk.porter.PorterStemmer()\n",
    "    text= ' '.join([ps.stem(word) for word in text.split()])\n",
    "    return text\n",
    "\n",
    "#Apply function on review column\n",
    "imdb_data['review']=imdb_data['review'].apply(simple_stemmer)\n",
    "imdb_data['review'][0]"
   ]
  },
  {
   "cell_type": "markdown",
   "id": "c1dd2881",
   "metadata": {},
   "source": [
    "#### Removing stopwords"
   ]
  },
  {
   "cell_type": "code",
   "execution_count": 492,
   "id": "d93ebd2b",
   "metadata": {},
   "outputs": [
    {
     "data": {
      "text/plain": [
       "'bromwel high cartoon comedi ran time program school life teacher 35 year teach profess lead believ bromwel high satir much closer realiti teacher scrambl surviv financi insight student see right pathet teacher pomp petti whole situat remind school knew student saw episod student repeatedli tri burn school immedi recal high classic line inspector im sack one teacher student welcom bromwel high expect mani adult age think bromwel high far fetch piti isnt'"
      ]
     },
     "execution_count": 492,
     "metadata": {},
     "output_type": "execute_result"
    }
   ],
   "source": [
    "#set stopwords to english\n",
    "stop=set(stopwords.words('english'))\n",
    "#print(stop)\n",
    "\n",
    "#removing the stopwords\n",
    "def remove_stopwords(text, is_lower_case=False):\n",
    "    tokens = tokenizer.tokenize(text)\n",
    "    tokens = [token.strip() for token in tokens]\n",
    "    if is_lower_case:\n",
    "        filtered_tokens = [token for token in tokens if token not in stopword_list]\n",
    "    else:\n",
    "        filtered_tokens = [token for token in tokens if token.lower() not in stopword_list]\n",
    "    filtered_text = ' '.join(filtered_tokens)    \n",
    "    return filtered_text\n",
    "\n",
    "#Apply function on review column\n",
    "imdb_data['review']=imdb_data['review'].apply(remove_stopwords)\n",
    "imdb_data['review'][0]"
   ]
  },
  {
   "cell_type": "code",
   "execution_count": 493,
   "id": "453750f1",
   "metadata": {},
   "outputs": [
    {
     "data": {
      "text/plain": [
       "['bromwel', 'high', 'cartoon', 'comedi', 'ran']"
      ]
     },
     "execution_count": 493,
     "metadata": {},
     "output_type": "execute_result"
    }
   ],
   "source": [
    "def remove_punctuation(text):\n",
    "    \"\"\"\n",
    "    Removing punctuation from our reviews\n",
    "    Punctuations are !\"#$%&'()*+, -./:;<=>?@[\\]^_`{|}~\n",
    "    \"\"\"\n",
    "    #return map(lambda s: re.sub(r'[^\\s\\w]+', '', s).lower(), strings)\n",
    "    all_text = ''.join([word for word in text if word not in punctuation])\n",
    "\n",
    "    # split by new lines and spaces\n",
    "    reviews_split = all_text.split('\\n')\n",
    "    all_text = ' '.join(reviews_split)\n",
    "    # create a list of words\n",
    "    words = all_text.split()\n",
    "    return words\n",
    "\n",
    "# text = imdb_data['review'][0]\n",
    "# remove_punctuation(text)\n",
    "\n",
    "imdb_data['review'] = imdb_data['review'].apply(lambda x: remove_punctuation(x))\n",
    "#first 5 words of the review are\n",
    "imdb_data['review'][0][:5]"
   ]
  },
  {
   "cell_type": "markdown",
   "id": "bfdac35e",
   "metadata": {},
   "source": [
    "## Normalized reviews - are splitted into test train and validation sets"
   ]
  },
  {
   "cell_type": "code",
   "execution_count": 494,
   "id": "80bcc741",
   "metadata": {},
   "outputs": [],
   "source": [
    "#Normalized val review\n",
    "#imdb_data['review'][16875]"
   ]
  },
  {
   "cell_type": "code",
   "execution_count": 495,
   "id": "6f826f88",
   "metadata": {},
   "outputs": [],
   "source": [
    "#Normalized test reviews\n",
    "#imdb_data['review'][35625]"
   ]
  },
  {
   "cell_type": "markdown",
   "id": "5160dbaf",
   "metadata": {},
   "source": [
    "### Splitting the data set for training"
   ]
  },
  {
   "cell_type": "code",
   "execution_count": 496,
   "id": "3424e317",
   "metadata": {},
   "outputs": [
    {
     "name": "stdout",
     "output_type": "stream",
     "text": [
      "Overall data set length is 37500\n",
      "From this index we see the negative reviews 18750\n"
     ]
    }
   ],
   "source": [
    "print(\"Overall data set length is\", imdb_data.shape[0]) \n",
    "print(\"From this index we see the negative reviews\", int(imdb_data.shape[0]/2))"
   ]
  },
  {
   "cell_type": "markdown",
   "id": "b3d0f800",
   "metadata": {},
   "source": [
    "##### Calculation of indexes"
   ]
  },
  {
   "cell_type": "code",
   "execution_count": 497,
   "id": "218ac5af",
   "metadata": {},
   "outputs": [],
   "source": [
    "#training set size will be\n",
    "TRAINING_SET_PROP = 0.8\n",
    "TEST_SET_PROP = VALID_SET_PROP = 0.1\n",
    "TRAININ_SET_LAST_INDEX_POS = int(imdb_data.shape[0]/2*TRAINING_SET_PROP)\n",
    "#TRAININ_SET_LAST_INDEX_POS\n",
    "TEST_SET_LAST_IDX_POS = int(imdb_data.shape[0]/2*(TRAINING_SET_PROP+TEST_SET_PROP))\n",
    "#TEST_SET_LAST_IDX_POS\n",
    "TRAININ_SET_INDEX_NEG = int(imdb_data.shape[0]/2)\n",
    "#TRAININ_SET_INDEX_NEG\n",
    "TRAIN_SET_LAST_IDX_NEG = int(imdb_data.shape[0]/2 +imdb_data.shape[0]/2*(TRAINING_SET_PROP))\n",
    "#TRAIN_SET_LAST_IDX_NEG\n",
    "TEST_SET_LAST_INDX_NEG = int(imdb_data.shape[0]/2 +imdb_data.shape[0]/2*( TRAINING_SET_PROP+ TEST_SET_PROP))\n",
    "#TEST_SET_LAST_INDX_NEG"
   ]
  },
  {
   "cell_type": "code",
   "execution_count": 498,
   "id": "4dcfd80e",
   "metadata": {},
   "outputs": [
    {
     "name": "stdout",
     "output_type": "stream",
     "text": [
      "(30000, 1) (30000, 1)\n",
      "(3750, 1) (3750, 1)\n",
      "(3750, 1) (3750, 1)\n",
      "Proportions of test data 0.1\n"
     ]
    }
   ],
   "source": [
    "#train dataset\n",
    "train_reviews_pos=imdb_data[['review']][:TRAININ_SET_LAST_INDEX_POS]\n",
    "train_sentiments_pos=imdb_data[['label']][:TRAININ_SET_LAST_INDEX_POS]\n",
    "train_reviews_neg=imdb_data[['review']][TRAININ_SET_INDEX_NEG:TRAIN_SET_LAST_IDX_NEG]\n",
    "train_sentiments_neg=imdb_data[['label']][TRAININ_SET_INDEX_NEG:TRAIN_SET_LAST_IDX_NEG]\n",
    "train_reviews = train_reviews_pos.append(train_reviews_neg)\n",
    "train_sentiments = train_sentiments_pos.append(train_sentiments_neg)\n",
    "\n",
    "#test dataset\n",
    "test_reviews_pos=imdb_data[['review']][TRAININ_SET_LAST_INDEX_POS:TEST_SET_LAST_IDX_POS]\n",
    "test_sentiments_pos=imdb_data[['label']][TRAININ_SET_LAST_INDEX_POS:TEST_SET_LAST_IDX_POS]\n",
    "test_reviews_neg=imdb_data[['review']][TRAIN_SET_LAST_IDX_NEG:TEST_SET_LAST_INDX_NEG]\n",
    "test_sentiments_neg=imdb_data[['label']][TRAIN_SET_LAST_IDX_NEG:TEST_SET_LAST_INDX_NEG]\n",
    "test_reviews = test_reviews_pos.append(test_reviews_neg)\n",
    "test_sentiments = test_sentiments_pos.append(test_sentiments_neg)\n",
    "\n",
    "#validation dataset\n",
    "val_reviews_pos=imdb_data[['review']][TEST_SET_LAST_IDX_POS:TRAININ_SET_INDEX_NEG]\n",
    "val_sentiments_pos=imdb_data[['label']][TEST_SET_LAST_IDX_POS:TRAININ_SET_INDEX_NEG]\n",
    "val_reviews_neg=imdb_data[['review']][TEST_SET_LAST_INDX_NEG:imdb_data.shape[0]]\n",
    "val_sentiments_neg=imdb_data[['label']][TEST_SET_LAST_INDX_NEG:imdb_data.shape[0]]\n",
    "val_reviews = val_reviews_pos.append(val_reviews_neg)\n",
    "val_sentiments = val_sentiments_pos.append(val_sentiments_neg)\n",
    "\n",
    "print(train_reviews.shape, train_sentiments.shape)\n",
    "print(test_reviews.shape,test_sentiments.shape)\n",
    "print(val_reviews.shape,test_sentiments.shape)\n",
    "print(\"Proportions of test data\", test_reviews.shape[0]/imdb_data.shape[0])"
   ]
  },
  {
   "cell_type": "markdown",
   "id": "c625c416",
   "metadata": {},
   "source": [
    "## Cutting off irregular reviews by lenght"
   ]
  },
  {
   "cell_type": "code",
   "execution_count": 499,
   "id": "d29f791a",
   "metadata": {},
   "outputs": [
    {
     "name": "stdout",
     "output_type": "stream",
     "text": [
      "Zero-length reviews: 0\n",
      "Maximum review length: 1503\n"
     ]
    }
   ],
   "source": [
    "train_review_lens = Counter([len(x) for x in train_reviews['review']])\n",
    "print(\"Zero-length reviews: {}\".format(train_review_lens[0]))\n",
    "print(\"Maximum review length: {}\".format(max(train_review_lens)))"
   ]
  },
  {
   "cell_type": "code",
   "execution_count": 500,
   "id": "c265e96a",
   "metadata": {},
   "outputs": [
    {
     "data": {
      "image/png": "[encoded data removed]",
      "text/plain": [
       "<Figure size 576x216 with 1 Axes>"
      ]
     },
     "metadata": {
      "needs_background": "light"
     },
     "output_type": "display_data"
    }
   ],
   "source": [
    "data = [len(x) for x in train_reviews['review']]\n",
    "# fixed bin size\n",
    "bins = np.arange(0, 100, 20) # fixed bin size\n",
    "plt.xlim([min(data)-5, max(data)/4+5])\n",
    "plt.hist(data, bins=bins, alpha=0.8)\n",
    "plt.title('Train reviews lenght histogram')\n",
    "plt.xlabel('variable X (bin size = 5)')\n",
    "plt.ylabel('count')\n",
    "plt.show()"
   ]
  },
  {
   "cell_type": "code",
   "execution_count": 501,
   "id": "1d5467ac",
   "metadata": {},
   "outputs": [
    {
     "name": "stdout",
     "output_type": "stream",
     "text": [
      "Zero-length reviews: 0\n",
      "Maximum review length: 829\n"
     ]
    }
   ],
   "source": [
    "test_review_lens = Counter([len(x) for x in test_reviews['review']])\n",
    "print(\"Zero-length reviews: {}\".format(test_review_lens[0]))\n",
    "print(\"Maximum review length: {}\".format(max(test_review_lens)))"
   ]
  },
  {
   "cell_type": "code",
   "execution_count": 502,
   "id": "d1eb4f7a",
   "metadata": {},
   "outputs": [
    {
     "data": {
      "image/png": "[encoded data removed]",
      "text/plain": [
       "<Figure size 576x216 with 1 Axes>"
      ]
     },
     "metadata": {
      "needs_background": "light"
     },
     "output_type": "display_data"
    }
   ],
   "source": [
    "data = [len(x) for x in test_reviews['review']]\n",
    "# fixed bin size\n",
    "bins = np.arange(0, 100, 20) # fixed bin size\n",
    "plt.xlim([min(data)-5, max(data)/4+5])\n",
    "plt.hist(data, bins=bins, alpha=0.8)\n",
    "plt.title('Train reviews lenght histogram')\n",
    "plt.xlabel('variable X (bin size = 5)')\n",
    "plt.ylabel('count')\n",
    "plt.show()"
   ]
  },
  {
   "cell_type": "code",
   "execution_count": 503,
   "id": "5355ccae",
   "metadata": {},
   "outputs": [
    {
     "name": "stdout",
     "output_type": "stream",
     "text": [
      "Zero-length reviews: 0\n",
      "Maximum review length: 685\n"
     ]
    }
   ],
   "source": [
    "val_review_lens = Counter([len(x) for x in val_reviews['review']])\n",
    "print(\"Zero-length reviews: {}\".format(val_review_lens[0]))\n",
    "print(\"Maximum review length: {}\".format(max(val_review_lens)))"
   ]
  },
  {
   "cell_type": "code",
   "execution_count": 504,
   "id": "b1eb6984",
   "metadata": {},
   "outputs": [
    {
     "data": {
      "image/png": "[encoded data removed]",
      "text/plain": [
       "<Figure size 576x216 with 1 Axes>"
      ]
     },
     "metadata": {
      "needs_background": "light"
     },
     "output_type": "display_data"
    }
   ],
   "source": [
    "data = [len(x) for x in val_reviews['review']]\n",
    "# fixed bin size\n",
    "bins = np.arange(0, 100, 20) # fixed bin size\n",
    "plt.xlim([min(data)-5, max(data)/4+5])\n",
    "plt.hist(data, bins=bins, alpha=0.8)\n",
    "plt.title('Train reviews lenght histogram')\n",
    "plt.xlabel('variable X (bin size = 5)')\n",
    "plt.ylabel('count')\n",
    "plt.show()"
   ]
  },
  {
   "cell_type": "markdown",
   "id": "6d811c39",
   "metadata": {},
   "source": [
    "To decrease RNN training time the maximum review length will be cut to 100 words. For reviews shorter than 100, we'll pad with 0s. For reviews longer than 100, we can truncate them to the first 100 words.\n",
    "\n",
    "https://github.com/udacity/deep-learning/blob/master/sentiment-rnn/Sentiment_RNN_Solution.ipynb"
   ]
  },
  {
   "cell_type": "markdown",
   "id": "eb3041bb",
   "metadata": {},
   "source": [
    "## Encoding the words with provided vocabulary"
   ]
  },
  {
   "cell_type": "code",
   "execution_count": 505,
   "id": "45d5c318",
   "metadata": {},
   "outputs": [],
   "source": [
    "def read_vocab():\n",
    "    '''file format: \"idx : word\" '''\n",
    "    filename = 'imdb.vocab'\n",
    "    path = r\"train_data\"\n",
    "    word2id, id2word = {}, {}\n",
    "\n",
    "    with open(os.path.join(path, filename), 'r', encoding=\"utf8\") as file:\n",
    "        for line in file:\n",
    "            word = line.strip()\n",
    "            idx = len(word2id)\n",
    "            if word not in word2id:\n",
    "                word2id[word] = idx\n",
    "                id2word[idx] = word\n",
    "    return word2id, id2word \n",
    "\n",
    "word2id, id2word  = read_vocab()\n",
    "#word2id['with']"
   ]
  },
  {
   "cell_type": "code",
   "execution_count": 506,
   "id": "51f89fdd",
   "metadata": {},
   "outputs": [],
   "source": [
    "def encode_review(text, word2id):\n",
    "    '''Converts text to numbers. Each word in the text is looked up in the dictionary\n",
    "    and replaced by the corresponding number. If the word is not found - it is replaced with zero.\n",
    "    '''\n",
    "    #return torch.LongTensor([word2id[word] for word in text])\n",
    "    #return torch.LongTensor([word2id[word] if word in word2id else 0 for word in text])\n",
    "    return [word2id[word] if word in word2id else 0 for word in text]\n",
    "\n",
    "#text = imdb_data['review'][0]\n",
    "#encode_review(text, word2id)"
   ]
  },
  {
   "cell_type": "code",
   "execution_count": 507,
   "id": "fe935883",
   "metadata": {},
   "outputs": [],
   "source": [
    "train_reviews_ints = []\n",
    "test_reviews_ints = []\n",
    "val_reviews_ints = []\n",
    "\n",
    "for each_review in train_reviews['review']:\n",
    "    train_reviews_ints.append(encode_review(each_review, word2id))\n",
    "for each_review in test_reviews['review']:\n",
    "    test_reviews_ints.append(encode_review(each_review, word2id))\n",
    "for each_review in val_reviews['review']:\n",
    "    val_reviews_ints.append(encode_review(each_review, word2id))    "
   ]
  },
  {
   "cell_type": "code",
   "execution_count": 508,
   "id": "028adbd7",
   "metadata": {},
   "outputs": [
    {
     "data": {
      "text/plain": [
       "(30000, 3750)"
      ]
     },
     "execution_count": 508,
     "metadata": {},
     "output_type": "execute_result"
    }
   ],
   "source": [
    "len(train_reviews_ints), len(test_reviews_ints)"
   ]
  },
  {
   "cell_type": "markdown",
   "id": "efa044be",
   "metadata": {},
   "source": [
    "### Padding and cutting"
   ]
  },
  {
   "cell_type": "code",
   "execution_count": 509,
   "id": "c1e34397",
   "metadata": {},
   "outputs": [],
   "source": [
    "seq_len = 100\n",
    "\n",
    "#padding with zeroes\n",
    "prepared_train_review = np.zeros((len(train_reviews_ints), seq_len), dtype=int)\n",
    "prepared_test_review = np.zeros((len(test_reviews_ints), seq_len), dtype=int)\n",
    "prepared_val_review = np.zeros((len(val_reviews_ints), seq_len), dtype=int)\n",
    "\n",
    "#cutting the lenght\n",
    "for review_number, int_review in enumerate(train_reviews_ints):\n",
    "    prepared_train_review[review_number, -len(int_review):] = np.array(int_review)[:seq_len]\n",
    "\n",
    "for review_number, int_review in enumerate(test_reviews_ints):\n",
    "    prepared_test_review[review_number, -len(int_review):] = np.array(int_review)[:seq_len]\n",
    "    \n",
    "for review_number, int_review in enumerate(val_reviews_ints):\n",
    "    prepared_val_review[review_number, -len(int_review):] = np.array(int_review)[:seq_len]    "
   ]
  },
  {
   "cell_type": "code",
   "execution_count": 510,
   "id": "d5d0de6d",
   "metadata": {},
   "outputs": [],
   "source": [
    "#prepared_val_review[:10,:100]"
   ]
  },
  {
   "cell_type": "markdown",
   "id": "01f34463",
   "metadata": {},
   "source": [
    "### Embeddings"
   ]
  },
  {
   "cell_type": "markdown",
   "id": "633d8da4",
   "metadata": {},
   "source": [
    "###### Develop word2vec embeddings\n",
    "\n",
    "https://machinelearningmastery.com/develop-word-embeddings-python-gensim/"
   ]
  },
  {
   "cell_type": "code",
   "execution_count": 511,
   "id": "9f2fc982",
   "metadata": {},
   "outputs": [
    {
     "name": "stdout",
     "output_type": "stream",
     "text": [
      "['fasttext-wiki-news-subwords-300', 'conceptnet-numberbatch-17-06-300', 'word2vec-ruscorpora-300', 'word2vec-google-news-300', 'glove-wiki-gigaword-50', 'glove-wiki-gigaword-100', 'glove-wiki-gigaword-200', 'glove-wiki-gigaword-300', 'glove-twitter-25', 'glove-twitter-50', 'glove-twitter-100', 'glove-twitter-200', '__testing_word2vec-matrix-synopsis']\n"
     ]
    }
   ],
   "source": [
    "#https://towardsdatascience.com/multiclass-text-classification-using-lstm-in-pytorch-eac56baed8df\n",
    "#https://cnvrg.io/sentiment-analysis-python/\n",
    "\n",
    "import gensim.downloader\n",
    "\n",
    "# Show all available models in gensim-data\n",
    "print(list(gensim.downloader.info()['models'].keys()))\n",
    "\n"
   ]
  },
  {
   "cell_type": "code",
   "execution_count": 512,
   "id": "a1bf569d",
   "metadata": {
    "scrolled": true
   },
   "outputs": [],
   "source": [
    "def embed(n_vocab, n_embed, embedding1 = False):\n",
    "    # Download the \"glove-twitter-100\" or \"word2vec-google-news-300\" embeddings\n",
    "    if embedding1:\n",
    "        glove_path = gensim.downloader.load('word2vec-google-news-300', return_path=True)\n",
    "        glove_model = gensim.models.keyedvectors.load_word2vec_format(glove_path, binary=True)\n",
    "        \n",
    "    else:\n",
    "        glove_path = gensim.downloader.load('glove-twitter-100', return_path=True)\n",
    "        try:\n",
    "            glove_model = gensim.models.keyedvectors.load_word2vec_format(glove_path)\n",
    "        except:\n",
    "            glove_model = gensim.models.keyedvectors.load_word2vec_format(glove_path, binary=True)\n",
    "        # glove_model = api.load('word2vec-ruscorpora-300')  If we want to load without saving localy \n",
    "    \n",
    "    #loading the weights into torch Embeddings\n",
    "    weights = torch.FloatTensor(glove_model.vectors)\n",
    "    # Build nn.Embedding() layer\n",
    "    embedding = nn.Embedding.from_pretrained(weights) \n",
    "\n",
    "    encoder = nn.Embedding(n_vocab, n_embed)\n",
    "    #encoder(torch.from_numpy(prepared_train_review[0]))\n",
    "\n",
    "    embedding.requires_grad_(False)\n",
    "    return embedding"
   ]
  },
  {
   "cell_type": "markdown",
   "id": "c6139fae",
   "metadata": {},
   "source": [
    "## Data Loders and batching"
   ]
  },
  {
   "cell_type": "code",
   "execution_count": 513,
   "id": "95d7d40d",
   "metadata": {},
   "outputs": [],
   "source": [
    "# create Tensor datasets\n",
    "train_data = TensorDataset(torch.from_numpy(prepared_train_review), torch.from_numpy(train_sentiments.to_numpy()))\n",
    "valid_data = TensorDataset(torch.from_numpy(prepared_test_review), torch.from_numpy(test_sentiments.to_numpy()))\n",
    "test_data = TensorDataset(torch.from_numpy(prepared_val_review), torch.from_numpy(val_sentiments.to_numpy()))\n",
    "\n",
    "# dataloaders\n",
    "batch_size = 50\n",
    "\n",
    "train_loader = DataLoader(train_data, shuffle=True, batch_size=batch_size)\n",
    "valid_loader = DataLoader(valid_data, shuffle=True, batch_size=batch_size)\n",
    "test_loader = DataLoader(test_data, shuffle=True, batch_size=batch_size)"
   ]
  },
  {
   "cell_type": "code",
   "execution_count": 514,
   "id": "6d8669ad",
   "metadata": {},
   "outputs": [
    {
     "name": "stdout",
     "output_type": "stream",
     "text": [
      "GPU not available, CPU used\n"
     ]
    }
   ],
   "source": [
    "is_cuda = torch.cuda.is_available()\n",
    "\n",
    "# If we have a GPU available, we'll set our device to GPU. We'll use this device variable later in our code.\n",
    "if is_cuda:\n",
    "    device = torch.device(\"cuda\")\n",
    "    print(\"GPU is available\")\n",
    "else:\n",
    "    device = torch.device(\"cpu\")\n",
    "    print(\"GPU not available, CPU used\")"
   ]
  },
  {
   "cell_type": "markdown",
   "id": "7287837f",
   "metadata": {},
   "source": [
    "## Training"
   ]
  },
  {
   "cell_type": "code",
   "execution_count": 515,
   "id": "00dc2484",
   "metadata": {},
   "outputs": [],
   "source": [
    "#Code from here\n",
    "#https://github.com/emadRad/lstm-gru-pytorch/blob/master/lstm_gru.ipynb\n",
    "#https://github.com/piEsposito/pytorch-lstm-by-hand/blob/master/LSTM.ipynb\n",
    "\n",
    "\n",
    "#theory from here\n",
    "#https://blog.floydhub.com/gru-with-pytorch/\n",
    "\n",
    "# yonai referance:\n",
    "# https://towardsdatascience.com/building-a-lstm-by-hand-on-pytorch-59c02a4ec091\n",
    "# https://towardsdatascience.com/sentiment-analysis-using-lstm-step-by-step-50d074f09948\n",
    "\n",
    "\n",
    "# DEFINE THE LSTM MODEL\n",
    "class CustomLSTM(nn.Module):\n",
    "    #def __init__(self, input_sz, hidden_sz):\n",
    "    def __init__(self, n_vocab, n_embed, n_hidden, n_output, n_layers, drop_p = 0.5, embedding1 = False):\n",
    "        super().__init__()\n",
    "        self.n_embed = n_embed        \n",
    "        self.n_vocab = n_vocab     # number of unique words in vocabulary\n",
    "        self.n_layers = n_layers   # number of LSTM layers \n",
    "        self.n_hidden = n_hidden   # number of hidden nodes in LSTM\n",
    "        \n",
    "        if embedding1:\n",
    "            self.embedding = embed(n_vocab, n_embed, embedding1 = False)\n",
    "        else:\n",
    "            self.embedding = embed(n_vocab, n_embed)\n",
    "        \n",
    "        self.dropout = nn.Dropout(drop_p)\n",
    "        self.fc = nn.Linear(n_hidden, n_output)\n",
    "        self.sigmoid = nn.Sigmoid()\n",
    "        \n",
    "        self.W = nn.Parameter(torch.Tensor(n_embed, n_hidden * 4))\n",
    "        self.U = nn.Parameter(torch.Tensor(n_hidden, n_hidden * 4))\n",
    "        self.bias = nn.Parameter(torch.Tensor(n_hidden * 4))\n",
    "        self.init_weights()\n",
    "                \n",
    "    def init_weights(self):\n",
    "        stdv = 1.0 / math.sqrt(self.n_hidden)\n",
    "        for weight in self.parameters():\n",
    "            weight.data.uniform_(-stdv, stdv)\n",
    "         \n",
    "    def forward(self, x, \n",
    "                init_states=None):\n",
    "        \n",
    "        x = self.embedding(x)    # (batch_size, seq_length, n_embed)\n",
    "\n",
    "        \"\"\"Assumes x is of shape (batch, sequence, feature)\"\"\"\n",
    "        bs, seq_sz, _ = x.size()\n",
    "        hidden_seq = []\n",
    "        if init_states is None:\n",
    "            h_t, c_t = (torch.zeros(bs, self.n_hidden).to(x.device), \n",
    "                        torch.zeros(bs, self.n_hidden).to(x.device))\n",
    "        else:\n",
    "            h_t, c_t = init_states\n",
    "         \n",
    "        HS = self.n_hidden\n",
    "        for t in range(seq_sz):\n",
    "            x_t = x[:, t, :]\n",
    "            # batch the computations into a single matrix multiplication\n",
    "            gates = x_t @ self.W + h_t @ self.U + self.bias\n",
    "            i_t, f_t, g_t, o_t = (\n",
    "                torch.sigmoid(gates[:, :HS]), # input\n",
    "                torch.sigmoid(gates[:, HS:HS*2]), # forget\n",
    "                torch.tanh(gates[:, HS*2:HS*3]),\n",
    "                torch.sigmoid(gates[:, HS*3:]), # output\n",
    "            )\n",
    "            c_t = f_t * c_t + i_t * g_t\n",
    "            h_t = o_t * torch.tanh(c_t)\n",
    "            hidden_seq.append(h_t.unsqueeze(0))\n",
    "        hidden_seq = torch.cat(hidden_seq, dim=0)\n",
    "        # reshape from shape (sequence, batch, feature) to (batch, sequence, feature)\n",
    "        hidden_seq = hidden_seq.transpose(0, 1).contiguous()\n",
    "        hidden_seq, (h_t, c_t)\n",
    "        lstm_out, h = hidden_seq, (h_t, c_t)      # (batch_size, seq_length, n_hidden)\n",
    "        lstm_out = self.dropout(lstm_out)\n",
    "        lstm_out = lstm_out.contiguous().view(-1, self.n_hidden) # (batch_size*seq_length, n_hidden)\n",
    "        fc_out = self.fc(lstm_out)                      # (batch_size*seq_length, n_output)\n",
    "        sigmoid_out = self.sigmoid(fc_out)              # (batch_size*seq_length, n_output)\n",
    "        sigmoid_out = sigmoid_out.view(batch_size, -1)  # (batch_size, seq_length*n_output)\n",
    "        \n",
    "        # extract the output of ONLY the LAST output of the LAST element of the sequence\n",
    "        sigmoid_last = sigmoid_out[:, -1]               # (batch_size, 1)\n",
    "        \n",
    "        return sigmoid_last, h\n",
    "    \n",
    "    def init_hidden (self, batch_size):  # initialize hidden weights (h,c) to 0\n",
    "        \n",
    "        device = \"cuda\" if torch.cuda.is_available() else \"cpu\"\n",
    "        weights = next(self.parameters()).data\n",
    "        h = (weights.new(self.n_layers, batch_size, self.n_hidden).zero_().to(device),\n",
    "             weights.new(self.n_layers, batch_size, self.n_hidden).zero_().to(device))\n",
    "        \n",
    "        return h"
   ]
  },
  {
   "cell_type": "code",
   "execution_count": 560,
   "id": "3709ae50",
   "metadata": {},
   "outputs": [],
   "source": [
    "# INSTANTIATE THE MODEL W/ HYPERPARAMETERS\n",
    "n_vocab = len(word2id)\n",
    "n_embed = 100\n",
    "n_hidden = 12\n",
    "n_output = 1   # 1 (\"positive\") or 0 (\"negative\")\n",
    "n_layers = 2\n",
    "\n",
    "net = CustomLSTM(n_vocab, n_embed, n_hidden, n_output, n_layers)"
   ]
  },
  {
   "cell_type": "code",
   "execution_count": 561,
   "id": "7ea42e02",
   "metadata": {},
   "outputs": [],
   "source": [
    "# DEFINE LOSS & OPTIMIZER\n",
    "criterion = nn.BCELoss()\n",
    "optimizer = optim.Adam(net.parameters(), lr = 0.01)"
   ]
  },
  {
   "cell_type": "code",
   "execution_count": 562,
   "id": "4b95e386",
   "metadata": {},
   "outputs": [],
   "source": [
    "#TRAIN THE NETWORK!\n",
    "def train_lstm(net):\n",
    "    train_losses = []\n",
    "    val_losses = []\n",
    "    print_every = 100\n",
    "    step = 0\n",
    "    n_epochs = 10  # validation loss increases from ~ epoch 3 or 4\n",
    "    clip = 5  # for gradient clip to prevent exploding gradient problem in LSTM/RNN\n",
    "    device = 'cuda' if torch.cuda.is_available() else 'cpu'\n",
    "    \n",
    "    #auc = []\n",
    "    #fpr = []\n",
    "    #tpr = []\n",
    "\n",
    "    test_losses = []\n",
    "    test_accuracies = []\n",
    "    \n",
    "\n",
    "    for epoch in range(n_epochs):\n",
    "        train_lst = []\n",
    "        val_lst = []\n",
    "        h = net.init_hidden(batch_size)\n",
    "\n",
    "        for inputs, labels in train_loader:\n",
    "            step += 1\n",
    "            inputs, labels = inputs.to(device), labels.to(device)\n",
    "\n",
    "            # making requires_grad = False for the latest set of h\n",
    "            h = tuple([each.data for each in h])   \n",
    "\n",
    "            net.zero_grad()\n",
    "            output, h = net(inputs)\n",
    "            loss = criterion(output.squeeze(), labels.float().squeeze())\n",
    "            loss.backward()\n",
    "            nn.utils.clip_grad_norm(net.parameters(), clip)\n",
    "            optimizer.step()\n",
    "\n",
    "            if (step % print_every) == 0:            \n",
    "                ######################\n",
    "                ##### VALIDATION #####\n",
    "                ######################\n",
    "                net.eval()\n",
    "                valid_losses = []\n",
    "                v_h = net.init_hidden(batch_size)\n",
    "\n",
    "                for v_inputs, v_labels in valid_loader:\n",
    "                    v_inputs, v_labels = inputs.to(device), labels.to(device)\n",
    "\n",
    "                    v_h = tuple([each.data for each in v_h])\n",
    "\n",
    "                    v_output, v_h = net(v_inputs)\n",
    "                    v_loss = criterion(v_output.squeeze(), v_labels.float().squeeze())\n",
    "                    valid_losses.append(v_loss.item())\n",
    "\n",
    "                print(\"Epoch: {}/{}\".format((epoch+1), n_epochs),\n",
    "                      \"Step: {}\".format(step),\n",
    "                      \"Training Loss: {:.4f}\".format(loss.item()),\n",
    "                      \"Validation Loss: {:.4f}\".format(np.mean(valid_losses)))\n",
    "                \n",
    "                train_lst.append(loss.item())\n",
    "                val_lst.append(np.mean(valid_losses))\n",
    "                net.train()\n",
    "        \n",
    "        #TEST THE TRAINED MODEL ON THE TEST SET\n",
    "        net.eval()\n",
    "        test_lst = []\n",
    "        num_correct = 0\n",
    "        test_h = net.init_hidden(batch_size)\n",
    "        outputs = []\n",
    "        targets = []\n",
    "        for inputs, labels in test_loader:\n",
    "            test_h = tuple([each.data for each in test_h])\n",
    "            test_output, test_h = net(inputs)\n",
    "            loss = criterion(test_output.squeeze(), labels.float().squeeze())\n",
    "            test_lst.append(loss.item())\n",
    "\n",
    "            preds = torch.round(test_output.squeeze())\n",
    "            correct_tensor = preds.eq(labels.float().view_as(preds))\n",
    "            correct = np.squeeze(correct_tensor.numpy())\n",
    "            num_correct += np.sum(correct)\n",
    "            \n",
    "            # outputs.append(preds)\n",
    "            \n",
    "\n",
    "        test_losses.append(np.mean(test_lst))\n",
    "        test_accuracies.append(num_correct/len(test_loader.dataset))\n",
    "        \n",
    "        train_losses.append(np.mean(train_lst))\n",
    "        val_losses.append(np.mean(val_lst))\n",
    "                \n",
    "    return net, train_losses, val_losses, test_losses, test_accuracies"
   ]
  },
  {
   "cell_type": "markdown",
   "id": "427d9151",
   "metadata": {},
   "source": [
    "# Results "
   ]
  },
  {
   "cell_type": "code",
   "execution_count": 563,
   "id": "5799fb5a",
   "metadata": {},
   "outputs": [
    {
     "name": "stderr",
     "output_type": "stream",
     "text": [
      "C:\\Users\\User\\AppData\\Local\\Temp/ipykernel_90664/1753159545.py:35: UserWarning: torch.nn.utils.clip_grad_norm is now deprecated in favor of torch.nn.utils.clip_grad_norm_.\n",
      "  nn.utils.clip_grad_norm(net.parameters(), clip)\n"
     ]
    },
    {
     "name": "stdout",
     "output_type": "stream",
     "text": [
      "Epoch: 1/10 Step: 100 Training Loss: 0.6840 Validation Loss: 0.6682\n",
      "Epoch: 1/10 Step: 200 Training Loss: 0.6513 Validation Loss: 0.6674\n",
      "Epoch: 1/10 Step: 300 Training Loss: 0.6606 Validation Loss: 0.6575\n",
      "Epoch: 1/10 Step: 400 Training Loss: 0.6764 Validation Loss: 0.6495\n",
      "Epoch: 1/10 Step: 500 Training Loss: 0.6653 Validation Loss: 0.6690\n",
      "Epoch: 1/10 Step: 600 Training Loss: 0.5609 Validation Loss: 0.5401\n",
      "Epoch: 2/10 Step: 700 Training Loss: 0.6631 Validation Loss: 0.6474\n",
      "Epoch: 2/10 Step: 800 Training Loss: 0.5968 Validation Loss: 0.5822\n",
      "Epoch: 2/10 Step: 900 Training Loss: 0.6460 Validation Loss: 0.6457\n",
      "Epoch: 2/10 Step: 1000 Training Loss: 0.6002 Validation Loss: 0.5319\n",
      "Epoch: 2/10 Step: 1100 Training Loss: 0.4185 Validation Loss: 0.3829\n",
      "Epoch: 2/10 Step: 1200 Training Loss: 0.4915 Validation Loss: 0.4504\n",
      "Epoch: 3/10 Step: 1300 Training Loss: 0.5003 Validation Loss: 0.4892\n",
      "Epoch: 3/10 Step: 1400 Training Loss: 0.4338 Validation Loss: 0.4267\n",
      "Epoch: 3/10 Step: 1500 Training Loss: 0.4528 Validation Loss: 0.4296\n",
      "Epoch: 3/10 Step: 1600 Training Loss: 0.4296 Validation Loss: 0.3629\n",
      "Epoch: 3/10 Step: 1700 Training Loss: 0.6126 Validation Loss: 0.5206\n",
      "Epoch: 3/10 Step: 1800 Training Loss: 0.5557 Validation Loss: 0.4464\n",
      "Epoch: 4/10 Step: 1900 Training Loss: 0.2801 Validation Loss: 0.2721\n",
      "Epoch: 4/10 Step: 2000 Training Loss: 0.4911 Validation Loss: 0.4678\n",
      "Epoch: 4/10 Step: 2100 Training Loss: 0.2663 Validation Loss: 0.2922\n",
      "Epoch: 4/10 Step: 2200 Training Loss: 0.4549 Validation Loss: 0.4136\n",
      "Epoch: 4/10 Step: 2300 Training Loss: 0.4637 Validation Loss: 0.4344\n",
      "Epoch: 4/10 Step: 2400 Training Loss: 0.4838 Validation Loss: 0.4087\n",
      "Epoch: 5/10 Step: 2500 Training Loss: 0.4782 Validation Loss: 0.4724\n",
      "Epoch: 5/10 Step: 2600 Training Loss: 0.3593 Validation Loss: 0.3497\n",
      "Epoch: 5/10 Step: 2700 Training Loss: 0.4525 Validation Loss: 0.4099\n",
      "Epoch: 5/10 Step: 2800 Training Loss: 0.4405 Validation Loss: 0.4178\n",
      "Epoch: 5/10 Step: 2900 Training Loss: 0.4081 Validation Loss: 0.3616\n",
      "Epoch: 5/10 Step: 3000 Training Loss: 0.3141 Validation Loss: 0.3140\n",
      "Epoch: 6/10 Step: 3100 Training Loss: 0.3313 Validation Loss: 0.3242\n",
      "Epoch: 6/10 Step: 3200 Training Loss: 0.3870 Validation Loss: 0.3362\n",
      "Epoch: 6/10 Step: 3300 Training Loss: 0.4108 Validation Loss: 0.3447\n",
      "Epoch: 6/10 Step: 3400 Training Loss: 0.4574 Validation Loss: 0.4408\n",
      "Epoch: 6/10 Step: 3500 Training Loss: 0.4185 Validation Loss: 0.3726\n",
      "Epoch: 6/10 Step: 3600 Training Loss: 0.4622 Validation Loss: 0.4431\n",
      "Epoch: 7/10 Step: 3700 Training Loss: 0.3859 Validation Loss: 0.3806\n",
      "Epoch: 7/10 Step: 3800 Training Loss: 0.3344 Validation Loss: 0.3582\n",
      "Epoch: 7/10 Step: 3900 Training Loss: 0.4926 Validation Loss: 0.4404\n",
      "Epoch: 7/10 Step: 4000 Training Loss: 0.4058 Validation Loss: 0.4144\n",
      "Epoch: 7/10 Step: 4100 Training Loss: 0.5230 Validation Loss: 0.4956\n",
      "Epoch: 7/10 Step: 4200 Training Loss: 0.6553 Validation Loss: 0.5709\n",
      "Epoch: 8/10 Step: 4300 Training Loss: 0.2006 Validation Loss: 0.1887\n",
      "Epoch: 8/10 Step: 4400 Training Loss: 0.3298 Validation Loss: 0.3578\n",
      "Epoch: 8/10 Step: 4500 Training Loss: 0.5934 Validation Loss: 0.5528\n",
      "Epoch: 8/10 Step: 4600 Training Loss: 0.6024 Validation Loss: 0.5555\n",
      "Epoch: 8/10 Step: 4700 Training Loss: 0.4478 Validation Loss: 0.4395\n",
      "Epoch: 8/10 Step: 4800 Training Loss: 0.4563 Validation Loss: 0.4014\n",
      "Epoch: 9/10 Step: 4900 Training Loss: 0.2857 Validation Loss: 0.2696\n",
      "Epoch: 9/10 Step: 5000 Training Loss: 0.3799 Validation Loss: 0.3196\n",
      "Epoch: 9/10 Step: 5100 Training Loss: 0.4870 Validation Loss: 0.4171\n",
      "Epoch: 9/10 Step: 5200 Training Loss: 0.3550 Validation Loss: 0.3747\n",
      "Epoch: 9/10 Step: 5300 Training Loss: 0.4940 Validation Loss: 0.4761\n",
      "Epoch: 9/10 Step: 5400 Training Loss: 0.4338 Validation Loss: 0.3804\n",
      "Epoch: 10/10 Step: 5500 Training Loss: 0.3617 Validation Loss: 0.3549\n",
      "Epoch: 10/10 Step: 5600 Training Loss: 0.3485 Validation Loss: 0.3499\n",
      "Epoch: 10/10 Step: 5700 Training Loss: 0.5457 Validation Loss: 0.5482\n",
      "Epoch: 10/10 Step: 5800 Training Loss: 0.3359 Validation Loss: 0.3161\n",
      "Epoch: 10/10 Step: 5900 Training Loss: 0.3859 Validation Loss: 0.3398\n",
      "Epoch: 10/10 Step: 6000 Training Loss: 0.6508 Validation Loss: 0.5255\n"
     ]
    }
   ],
   "source": [
    "net, train_losses, val_losses, test_losses, test_accuracies = train_lstm(net)"
   ]
  },
  {
   "cell_type": "code",
   "execution_count": 564,
   "id": "c5eb3f76",
   "metadata": {},
   "outputs": [],
   "source": [
    "def test_results(net):\n",
    "    #TEST THE TRAINED MODEL ON THE TEST SET\n",
    "    net.eval()\n",
    "    test_losses = []\n",
    "    num_correct = 0\n",
    "    test_h = net.init_hidden(batch_size)\n",
    "\n",
    "    for inputs, labels in test_loader:\n",
    "        test_h = tuple([each.data for each in test_h])\n",
    "        test_output, test_h = net(inputs)\n",
    "        loss = criterion(test_output.squeeze(), labels.float().squeeze())\n",
    "        test_losses.append(loss.item())\n",
    "\n",
    "        preds = torch.round(test_output.squeeze())\n",
    "        correct_tensor = preds.eq(labels.float().view_as(preds))\n",
    "        correct = np.squeeze(correct_tensor.numpy())\n",
    "        num_correct += np.sum(correct)\n",
    "\n",
    "    print(\"Test Loss: {:.4f}\".format(np.mean(test_losses)))\n",
    "    print(\"Test Accuracy: {:.2f}\".format(num_correct/len(test_loader.dataset)))\n",
    "    \n"
   ]
  },
  {
   "cell_type": "code",
   "execution_count": 565,
   "id": "207b83ab",
   "metadata": {},
   "outputs": [
    {
     "name": "stdout",
     "output_type": "stream",
     "text": [
      "Test Loss: 0.4882\n",
      "Test Accuracy: 0.78\n"
     ]
    }
   ],
   "source": [
    "test_results(net)"
   ]
  },
  {
   "cell_type": "code",
   "execution_count": 566,
   "id": "38a867b7",
   "metadata": {},
   "outputs": [
    {
     "data": {
      "image/png": "[encoded data removed]",
      "text/plain": [
       "<Figure size 576x216 with 1 Axes>"
      ]
     },
     "metadata": {
      "needs_background": "light"
     },
     "output_type": "display_data"
    }
   ],
   "source": [
    "# summarize history for loss\n",
    "plt.rcParams[\"figure.figsize\"] = (8,3)\n",
    "plt.plot(train_losses)\n",
    "plt.plot(val_losses)\n",
    "plt.title('Model loss vs Epochs')\n",
    "plt.ylabel('loss')\n",
    "plt.xlabel('epoch')\n",
    "plt.legend(['train', 'val'], loc='upper right')\n",
    "plt.show()"
   ]
  },
  {
   "cell_type": "code",
   "execution_count": 567,
   "id": "e31246d1",
   "metadata": {},
   "outputs": [
    {
     "data": {
      "image/png": "[encoded data removed]",
      "text/plain": [
       "<Figure size 576x216 with 1 Axes>"
      ]
     },
     "metadata": {
      "needs_background": "light"
     },
     "output_type": "display_data"
    }
   ],
   "source": [
    "# Verifying the absence of overfitting\n",
    "plt.rcParams[\"figure.figsize\"] = (8,3)\n",
    "plt.plot(train_losses)\n",
    "plt.plot(test_losses)\n",
    "plt.title('Model loss vs Epochs')\n",
    "plt.ylabel('loss')\n",
    "plt.xlabel('epoch')\n",
    "plt.legend(['train', 'test'], loc='upper right')\n",
    "plt.show()"
   ]
  },
  {
   "cell_type": "code",
   "execution_count": 568,
   "id": "c9ed223c",
   "metadata": {},
   "outputs": [
    {
     "data": {
      "image/png": "[encoded data removed]",
      "text/plain": [
       "<Figure size 576x216 with 1 Axes>"
      ]
     },
     "metadata": {
      "needs_background": "light"
     },
     "output_type": "display_data"
    }
   ],
   "source": [
    "#ROC curve and calculate AUC for the test set\n",
    "y_test = next(iter(test_loader))[1].numpy().squeeze()\n",
    "x_test = next(iter(test_loader))[0]\n",
    "test_out, test_h = net(next(iter(test_loader))[0])\n",
    "\n",
    "plt.rcParams[\"figure.figsize\"] = (8,3)\n",
    "plt.plot([0, 1], [0, 1], linestyle='--', lw=2, color='r', label='Random guess')\n",
    "y_pred_proba = test_out.detach().numpy()\n",
    "fpr, tpr, _ = metrics.roc_curve(y_test,  y_pred_proba)\n",
    "auc = metrics.roc_auc_score(y_test, y_pred_proba)\n",
    "plt.plot(fpr, tpr, label=\"Data ROC, AUC=\"+str(auc))\n",
    "plt.title('ROC and ACU for the test set')\n",
    "plt.ylabel('TPR')\n",
    "plt.xlabel('FPR')\n",
    "plt.legend(loc=4)\n",
    "plt.show()"
   ]
  },
  {
   "cell_type": "markdown",
   "id": "20af5e40",
   "metadata": {},
   "source": [
    "## second embedding"
   ]
  },
  {
   "cell_type": "code",
   "execution_count": 569,
   "id": "b6883d72",
   "metadata": {},
   "outputs": [],
   "source": [
    "n1_embed = 300\n",
    "net1 = CustomLSTM(n_vocab, n1_embed, n_hidden, n_output, n_layers, embedding1 = True)"
   ]
  },
  {
   "cell_type": "code",
   "execution_count": 570,
   "id": "39ef3aac",
   "metadata": {},
   "outputs": [
    {
     "ename": "RuntimeError",
     "evalue": "mat1 and mat2 shapes cannot be multiplied (50x100 and 300x48)",
     "output_type": "error",
     "traceback": [
      "\u001b[1;31m---------------------------------------------------------------------------\u001b[0m",
      "\u001b[1;31mRuntimeError\u001b[0m                              Traceback (most recent call last)",
      "\u001b[1;32m~\\AppData\\Local\\Temp/ipykernel_90664/331002427.py\u001b[0m in \u001b[0;36m<module>\u001b[1;34m\u001b[0m\n\u001b[1;32m----> 1\u001b[1;33m \u001b[0mnet1\u001b[0m\u001b[1;33m,\u001b[0m \u001b[0mtrain_losses1\u001b[0m\u001b[1;33m,\u001b[0m \u001b[0mval_losses1\u001b[0m\u001b[1;33m,\u001b[0m \u001b[0mtest_losses1\u001b[0m\u001b[1;33m,\u001b[0m \u001b[0mtest_accuracies1\u001b[0m \u001b[1;33m=\u001b[0m \u001b[0mtrain_lstm\u001b[0m\u001b[1;33m(\u001b[0m\u001b[0mnet1\u001b[0m\u001b[1;33m)\u001b[0m\u001b[1;33m\u001b[0m\u001b[1;33m\u001b[0m\u001b[0m\n\u001b[0m",
      "\u001b[1;32m~\\AppData\\Local\\Temp/ipykernel_90664/1753159545.py\u001b[0m in \u001b[0;36mtrain_lstm\u001b[1;34m(net)\u001b[0m\n\u001b[0;32m     30\u001b[0m \u001b[1;33m\u001b[0m\u001b[0m\n\u001b[0;32m     31\u001b[0m             \u001b[0mnet\u001b[0m\u001b[1;33m.\u001b[0m\u001b[0mzero_grad\u001b[0m\u001b[1;33m(\u001b[0m\u001b[1;33m)\u001b[0m\u001b[1;33m\u001b[0m\u001b[1;33m\u001b[0m\u001b[0m\n\u001b[1;32m---> 32\u001b[1;33m             \u001b[0moutput\u001b[0m\u001b[1;33m,\u001b[0m \u001b[0mh\u001b[0m \u001b[1;33m=\u001b[0m \u001b[0mnet\u001b[0m\u001b[1;33m(\u001b[0m\u001b[0minputs\u001b[0m\u001b[1;33m)\u001b[0m\u001b[1;33m\u001b[0m\u001b[1;33m\u001b[0m\u001b[0m\n\u001b[0m\u001b[0;32m     33\u001b[0m             \u001b[0mloss\u001b[0m \u001b[1;33m=\u001b[0m \u001b[0mcriterion\u001b[0m\u001b[1;33m(\u001b[0m\u001b[0moutput\u001b[0m\u001b[1;33m.\u001b[0m\u001b[0msqueeze\u001b[0m\u001b[1;33m(\u001b[0m\u001b[1;33m)\u001b[0m\u001b[1;33m,\u001b[0m \u001b[0mlabels\u001b[0m\u001b[1;33m.\u001b[0m\u001b[0mfloat\u001b[0m\u001b[1;33m(\u001b[0m\u001b[1;33m)\u001b[0m\u001b[1;33m.\u001b[0m\u001b[0msqueeze\u001b[0m\u001b[1;33m(\u001b[0m\u001b[1;33m)\u001b[0m\u001b[1;33m)\u001b[0m\u001b[1;33m\u001b[0m\u001b[1;33m\u001b[0m\u001b[0m\n\u001b[0;32m     34\u001b[0m             \u001b[0mloss\u001b[0m\u001b[1;33m.\u001b[0m\u001b[0mbackward\u001b[0m\u001b[1;33m(\u001b[0m\u001b[1;33m)\u001b[0m\u001b[1;33m\u001b[0m\u001b[1;33m\u001b[0m\u001b[0m\n",
      "\u001b[1;32m~\\anaconda3\\lib\\site-packages\\torch\\nn\\modules\\module.py\u001b[0m in \u001b[0;36m_call_impl\u001b[1;34m(self, *input, **kwargs)\u001b[0m\n\u001b[0;32m   1100\u001b[0m         if not (self._backward_hooks or self._forward_hooks or self._forward_pre_hooks or _global_backward_hooks\n\u001b[0;32m   1101\u001b[0m                 or _global_forward_hooks or _global_forward_pre_hooks):\n\u001b[1;32m-> 1102\u001b[1;33m             \u001b[1;32mreturn\u001b[0m \u001b[0mforward_call\u001b[0m\u001b[1;33m(\u001b[0m\u001b[1;33m*\u001b[0m\u001b[0minput\u001b[0m\u001b[1;33m,\u001b[0m \u001b[1;33m**\u001b[0m\u001b[0mkwargs\u001b[0m\u001b[1;33m)\u001b[0m\u001b[1;33m\u001b[0m\u001b[1;33m\u001b[0m\u001b[0m\n\u001b[0m\u001b[0;32m   1103\u001b[0m         \u001b[1;31m# Do not call functions when jit is used\u001b[0m\u001b[1;33m\u001b[0m\u001b[1;33m\u001b[0m\u001b[1;33m\u001b[0m\u001b[0m\n\u001b[0;32m   1104\u001b[0m         \u001b[0mfull_backward_hooks\u001b[0m\u001b[1;33m,\u001b[0m \u001b[0mnon_full_backward_hooks\u001b[0m \u001b[1;33m=\u001b[0m \u001b[1;33m[\u001b[0m\u001b[1;33m]\u001b[0m\u001b[1;33m,\u001b[0m \u001b[1;33m[\u001b[0m\u001b[1;33m]\u001b[0m\u001b[1;33m\u001b[0m\u001b[1;33m\u001b[0m\u001b[0m\n",
      "\u001b[1;32m~\\AppData\\Local\\Temp/ipykernel_90664/1246251566.py\u001b[0m in \u001b[0;36mforward\u001b[1;34m(self, x, init_states)\u001b[0m\n\u001b[0;32m     59\u001b[0m             \u001b[0mx_t\u001b[0m \u001b[1;33m=\u001b[0m \u001b[0mx\u001b[0m\u001b[1;33m[\u001b[0m\u001b[1;33m:\u001b[0m\u001b[1;33m,\u001b[0m \u001b[0mt\u001b[0m\u001b[1;33m,\u001b[0m \u001b[1;33m:\u001b[0m\u001b[1;33m]\u001b[0m\u001b[1;33m\u001b[0m\u001b[1;33m\u001b[0m\u001b[0m\n\u001b[0;32m     60\u001b[0m             \u001b[1;31m# batch the computations into a single matrix multiplication\u001b[0m\u001b[1;33m\u001b[0m\u001b[1;33m\u001b[0m\u001b[1;33m\u001b[0m\u001b[0m\n\u001b[1;32m---> 61\u001b[1;33m             \u001b[0mgates\u001b[0m \u001b[1;33m=\u001b[0m \u001b[0mx_t\u001b[0m \u001b[1;33m@\u001b[0m \u001b[0mself\u001b[0m\u001b[1;33m.\u001b[0m\u001b[0mW\u001b[0m \u001b[1;33m+\u001b[0m \u001b[0mh_t\u001b[0m \u001b[1;33m@\u001b[0m \u001b[0mself\u001b[0m\u001b[1;33m.\u001b[0m\u001b[0mU\u001b[0m \u001b[1;33m+\u001b[0m \u001b[0mself\u001b[0m\u001b[1;33m.\u001b[0m\u001b[0mbias\u001b[0m\u001b[1;33m\u001b[0m\u001b[1;33m\u001b[0m\u001b[0m\n\u001b[0m\u001b[0;32m     62\u001b[0m             i_t, f_t, g_t, o_t = (\n\u001b[0;32m     63\u001b[0m                 \u001b[0mtorch\u001b[0m\u001b[1;33m.\u001b[0m\u001b[0msigmoid\u001b[0m\u001b[1;33m(\u001b[0m\u001b[0mgates\u001b[0m\u001b[1;33m[\u001b[0m\u001b[1;33m:\u001b[0m\u001b[1;33m,\u001b[0m \u001b[1;33m:\u001b[0m\u001b[0mHS\u001b[0m\u001b[1;33m]\u001b[0m\u001b[1;33m)\u001b[0m\u001b[1;33m,\u001b[0m \u001b[1;31m# input\u001b[0m\u001b[1;33m\u001b[0m\u001b[1;33m\u001b[0m\u001b[0m\n",
      "\u001b[1;31mRuntimeError\u001b[0m: mat1 and mat2 shapes cannot be multiplied (50x100 and 300x48)"
     ]
    }
   ],
   "source": [
    "net1, train_losses1, val_losses1, test_losses1, test_accuracies1 = train_lstm(net1)"
   ]
  },
  {
   "cell_type": "code",
   "execution_count": null,
   "id": "5fb93405",
   "metadata": {},
   "outputs": [],
   "source": [
    "test_results(net1)"
   ]
  },
  {
   "cell_type": "code",
   "execution_count": null,
   "id": "6288267c",
   "metadata": {},
   "outputs": [],
   "source": [
    "# summarize history for loss\n",
    "plt.rcParams[\"figure.figsize\"] = (8,3)\n",
    "plt.plot(train_losses1)\n",
    "plt.plot(val_losses1)\n",
    "plt.title('Model loss vs Epochs')\n",
    "plt.ylabel('loss')\n",
    "plt.xlabel('epoch')\n",
    "plt.legend(['train', 'val'], loc='upper right')\n",
    "plt.show()"
   ]
  },
  {
   "cell_type": "code",
   "execution_count": null,
   "id": "28bd0ca3",
   "metadata": {},
   "outputs": [],
   "source": [
    "# Verifying the absence of overfitting\n",
    "plt.rcParams[\"figure.figsize\"] = (8,3)\n",
    "plt.plot(train_losses1)\n",
    "plt.plot(test_losses1)\n",
    "plt.title('Model loss vs Epochs')\n",
    "plt.ylabel('loss')\n",
    "plt.xlabel('epoch')\n",
    "plt.legend(['train', 'test'], loc='upper right')\n",
    "plt.show()"
   ]
  },
  {
   "cell_type": "code",
   "execution_count": null,
   "id": "05442ce3",
   "metadata": {},
   "outputs": [],
   "source": [
    "#ROC curve and calculate AUC for the test set\n",
    "y_test = next(iter(test_loader))[1].numpy().squeeze()\n",
    "x_test = next(iter(test_loader))[0]\n",
    "test_out, test_h = net(next(iter(test_loader))[0])\n",
    "\n",
    "plt.rcParams[\"figure.figsize\"] = (8,3)\n",
    "plt.plot([0, 1], [0, 1], linestyle='--', lw=2, color='r', label='Random guess')\n",
    "y_pred_proba = test_out.detach().numpy()\n",
    "fpr, tpr, _ = metrics.roc_curve(y_test,  y_pred_proba)\n",
    "auc = metrics.roc_auc_score(y_test, y_pred_proba)\n",
    "plt.plot(fpr, tpr, label=\"Data ROC, AUC=\"+str(auc))\n",
    "plt.title('ROC and ACU for the test set')\n",
    "plt.ylabel('TPR')\n",
    "plt.xlabel('FPR')\n",
    "plt.legend(loc=4)\n",
    "plt.show()"
   ]
  },
  {
   "cell_type": "markdown",
   "id": "e14d1a10",
   "metadata": {},
   "source": [
    "# To train embeddings of ur own"
   ]
  },
  {
   "cell_type": "code",
   "execution_count": null,
   "id": "e54da6f1",
   "metadata": {},
   "outputs": [],
   "source": [
    "#https://rguigoures.github.io/word2vec_pytorch/"
   ]
  },
  {
   "cell_type": "code",
   "execution_count": null,
   "id": "ba1a61a7",
   "metadata": {},
   "outputs": [],
   "source": []
  }
 ],
 "metadata": {
  "kernelspec": {
   "display_name": "Python 3 (ipykernel)",
   "language": "python",
   "name": "python3"
  },
  "language_info": {
   "codemirror_mode": {
    "name": "ipython",
    "version": 3
   },
   "file_extension": ".py",
   "mimetype": "text/x-python",
   "name": "python",
   "nbconvert_exporter": "python",
   "pygments_lexer": "ipython3",
   "version": "3.8.12"
  }
 },
 "nbformat": 4,
 "nbformat_minor": 5
}
